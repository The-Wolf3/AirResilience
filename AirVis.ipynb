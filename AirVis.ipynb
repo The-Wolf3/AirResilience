{
 "cells": [
  {
   "cell_type": "code",
   "execution_count": 1,
   "id": "5628c193-c106-48ad-b11d-0d3346eab95c",
   "metadata": {},
   "outputs": [],
   "source": [
    "import numpy as np\n",
    "import pandas as pd\n",
    "import datetime\n",
    "import pickle\n",
    "import json\n",
    "\n",
    "from Itin import *\n",
    "\n"
   ]
  },
  {
   "cell_type": "code",
   "execution_count": null,
   "id": "ecd0260e",
   "metadata": {},
   "outputs": [],
   "source": []
  },
  {
   "cell_type": "code",
   "execution_count": 2,
   "id": "674d067e-36eb-490a-b1be-d8d11de72a14",
   "metadata": {},
   "outputs": [],
   "source": [
    "itin = pd.read_csv('airdata/Itin 7-17.csv')\n",
    "tmz = pd.read_csv('airdata/timezones.csv')\n",
    "itin.rename(columns={'FlnSegArvlAirprt':'FlownSegArvlAirprt'},inplace=True)\n",
    "tmz = tmz[['iata_code','iana_tz']]\n",
    "tmzdct = tmz.set_index('iata_code').to_dict()['iana_tz']"
   ]
  },
  {
   "cell_type": "code",
   "execution_count": 3,
   "id": "7d8123be-d8fb-4030-8d43-e8711e9c8397",
   "metadata": {},
   "outputs": [],
   "source": [
    "fields = ['PlanSegDep','PlanSegArvl','FlownSegDep','FlownSegArvl','PlanODDep','PlanODArvl','FlownODDep','FlownODArvl']\n",
    "for field in fields:\n",
    "    itin[field] = pd.to_datetime(itin[field], format='%Y-%m-%d %H:%M:%S')"
   ]
  },
  {
   "cell_type": "code",
   "execution_count": 7,
   "id": "22a1d13e-c42b-47bf-beb2-bda2f90efa94",
   "metadata": {},
   "outputs": [],
   "source": [
    "paxItins = {}\n",
    "for i, row in itin.iterrows():\n",
    "    id = row['PAX_PARTY_ID']\n",
    "    if id not in paxItins:\n",
    "        paxItins[id] = Itin(id)\n",
    "\n",
    "    it = paxItins[id]\n",
    "    loc = row['PlanSegDepAirprt']\n",
    "    loc2 = row['PlanSegArvlAirprt']\n",
    "    if not pd.isna(loc):\n",
    "        it.addEvent(row['PlanSegDep'].tz_localize(tmzdct[loc]), loc, 1)\n",
    "    if not pd.isna(loc2):\n",
    "        it.addEvent(row['PlanSegArvl'].tz_localize(tmzdct[loc2]), loc2, 2)\n",
    "\n",
    "for id in paxItins:\n",
    "    paxItins[id].relabel()"
   ]
  },
  {
   "cell_type": "code",
   "execution_count": 8,
   "id": "8b6e9571-4d77-4f72-b2f0-698d70c653b3",
   "metadata": {},
   "outputs": [],
   "source": [
    "flownPaxItins = {}\n",
    "for i, row in itin.iterrows():\n",
    "    id = row['PAX_PARTY_ID']\n",
    "    if id not in flownPaxItins:\n",
    "        flownPaxItins[id] = Itin(id)\n",
    "\n",
    "    it = flownPaxItins[id]\n",
    "    loc = row['FlownSegDepAirprt']\n",
    "    loc2 = row['FlownSegArvlAirprt']\n",
    "    if not pd.isna(loc):\n",
    "        it.addEvent(row['FlownSegDep'].tz_localize(tmzdct[loc]), loc, 1)\n",
    "    if not pd.isna(loc2):\n",
    "        it.addEvent(row['FlownSegArvl'].tz_localize(tmzdct[loc2]), loc2, 2)\n",
    "\n",
    "for id in flownPaxItins:\n",
    "    flownPaxItins[id].relabel()"
   ]
  },
  {
   "cell_type": "code",
   "execution_count": 9,
   "id": "7102af34-d6bc-45e2-bb85-59bd53a4b574",
   "metadata": {},
   "outputs": [],
   "source": [
    "# Determine arrival at airport\n",
    "\n",
    "for id in flownPaxItins:\n",
    "    if not pd.isna(id):\n",
    "        pax = itin[itin['PAX_PARTY_ID']==id]\n",
    "        time = pax['PlanODDep'].iloc[0] \n",
    "        loc = pax['PlanODOrigin'].iloc[0]\n",
    "        if not pd.isna(loc):\n",
    "            flownPaxItins[id].addEvent(time.tz_localize(tmzdct[loc])-datetime.timedelta(hours=1), loc, 0)\n"
   ]
  },
  {
   "cell_type": "code",
   "execution_count": null,
   "id": "cc6981ac-72e6-4855-8491-aec38f88548b",
   "metadata": {},
   "outputs": [],
   "source": [
    "print(flownPaxItins[171683784.0].events[0])"
   ]
  },
  {
   "cell_type": "code",
   "execution_count": 11,
   "id": "1d2f67ef-b954-4423-aaac-2474f4c32621",
   "metadata": {},
   "outputs": [],
   "source": [
    "start = datetime.datetime.fromisoformat('2019-07-17T00:00:00-04:00')\n",
    "delta = datetime.timedelta(minutes=10)"
   ]
  },
  {
   "cell_type": "code",
   "execution_count": 12,
   "id": "a783ae7b-70b7-41ad-90d6-1be78189a9a7",
   "metadata": {},
   "outputs": [],
   "source": [
    "trackedAirprt = ['MIA','SFO','DFW','CLT','ORD','JFK','LAS','LAX','BOS','BWI','DCA',\n",
    "                 'PHX','SLC','HNL','IAH','SEA','ATL','JAX', 'LGA','PHL','PIT','OAK',\n",
    "                 'DTW','MSP','SAN','DEN','FLL','MCO','TPA','AUS','STL','EWR','BNA',\n",
    "                 'SNA','MCI']\n",
    "\n",
    "dayData = []\n",
    "for i in range(24*6):\n",
    "    counts = countPax(start, trackedAirprt, flownPaxItins)\n",
    "    dayData.append(counts)\n",
    "    start += delta\n",
    "\n",
    "    "
   ]
  },
  {
   "cell_type": "code",
   "execution_count": 13,
   "id": "187a68c7",
   "metadata": {},
   "outputs": [],
   "source": [
    "with open('airdata/dayData.json','w') as file:\n",
    "    file.write(json.dumps(dayData))"
   ]
  },
  {
   "cell_type": "code",
   "execution_count": null,
   "id": "f673b0a0-8abd-4229-a47e-e8e63309f23c",
   "metadata": {},
   "outputs": [],
   "source": [
    "start"
   ]
  },
  {
   "cell_type": "code",
   "execution_count": 16,
   "id": "fd4ad3fa-b8be-43e7-b3d6-f74c72d2b329",
   "metadata": {},
   "outputs": [
    {
     "data": {
      "text/plain": [
       "{'MIA': [2236, 0, 8, 3662, 649, 78],\n",
       " 'SFO': [486, 0, 0, 0, 0, 0],\n",
       " 'DFW': [2048, 2, 32, 5443, 459, 0],\n",
       " 'CLT': [445, 2, 7, 2361, 571, 14],\n",
       " 'ORD': [1977, 3, 0, 2374, 221, 0],\n",
       " 'JFK': [576, 0, 140, 32, 1, 0],\n",
       " 'LAS': [119, 0, 0, 0, 0, 0],\n",
       " 'LAX': [1179, 0, 2, 151, 0, 0],\n",
       " 'BOS': [368, 0, 3, 89, 14, 0],\n",
       " 'BWI': [245, 0, 3, 14, 0, 0],\n",
       " 'DCA': [777, 0, 0, 464, 144, 0],\n",
       " 'PHX': [499, 0, 2, 742, 0, 0],\n",
       " 'SLC': [55, 0, 0, 0, 0, 0],\n",
       " 'HNL': [0, 0, 0, 0, 0, 0],\n",
       " 'IAH': [136, 20, 7, 30, 0, 0],\n",
       " 'SEA': [494, 0, 12, 0, 0, 0],\n",
       " 'ATL': [102, 0, 0, 62, 0, 0],\n",
       " 'JAX': [70, 0, 0, 28, 0, 0],\n",
       " 'LGA': [416, 14, 0, 98, 80, 0],\n",
       " 'PHL': [2060, 3, 10, 1563, 474, 0],\n",
       " 'PIT': [144, 0, 0, 23, 0, 0],\n",
       " 'OAK': [0, 0, 0, 0, 0, 0],\n",
       " 'DTW': [185, 0, 2, 25, 0, 0],\n",
       " 'MSP': [169, 0, 0, 45, 0, 0],\n",
       " 'SAN': [454, 0, 2, 0, 0, 0],\n",
       " 'DEN': [132, 0, 0, 20, 0, 0],\n",
       " 'FLL': [141, 0, 0, 10, 0, 0],\n",
       " 'MCO': [426, 0, 0, 28, 7, 0],\n",
       " 'TPA': [130, 0, 0, 15, 31, 2],\n",
       " 'AUS': [74, 0, 0, 20, 0, 0],\n",
       " 'STL': [349, 0, 0, 26, 0, 0],\n",
       " 'EWR': [291, 0, 0, 18, 0, 0],\n",
       " 'BNA': [178, 0, 0, 22, 0, 0],\n",
       " 'SNA': [129, 0, 0, 0, 0, 0],\n",
       " 'MCI': [195, 0, 0, 33, 0, 0]}"
      ]
     },
     "execution_count": 16,
     "metadata": {},
     "output_type": "execute_result"
    }
   ],
   "source": [
    "dayData[60]"
   ]
  },
  {
   "cell_type": "code",
   "execution_count": 2,
   "id": "c6b56188-ab2b-4d11-8bb3-c0d1d5ab4820",
   "metadata": {},
   "outputs": [],
   "source": [
    "with open('airdata/airprtLoc.json') as file:\n",
    "    iataDct = json.loads(file.read())"
   ]
  },
  {
   "cell_type": "code",
   "execution_count": 3,
   "id": "f0b84021",
   "metadata": {},
   "outputs": [],
   "source": [
    "with open('airdata/dayData.json') as file:\n",
    "    dayData = json.loads(file.read())"
   ]
  },
  {
   "cell_type": "code",
   "execution_count": 12,
   "id": "c26544ec-f823-45f5-b03e-3793429f3f95",
   "metadata": {},
   "outputs": [],
   "source": [
    "with open('airdata/flownPaxItin.pkl', 'wb') as file:\n",
    "    pickle.dump(flownPaxItins, file)\n",
    "    file.close()"
   ]
  },
  {
   "cell_type": "code",
   "execution_count": 20,
   "id": "6c700d16-aac4-436e-8050-3e8b2244cda7",
   "metadata": {},
   "outputs": [],
   "source": [
    "lat, long = iataDct['MIA']"
   ]
  },
  {
   "cell_type": "code",
   "execution_count": 40,
   "id": "fd6bcf03",
   "metadata": {},
   "outputs": [],
   "source": [
    "import plotly.graph_objects as go\n",
    "def make_frame(data, airDct):\n",
    "\n",
    "    traces = []\n",
    "    # For each airport: plot pie\n",
    "    for airport in data:\n",
    "        if airport != 'HNL':\n",
    "            lat, lon = airDct[airport]\n",
    "            ls = data[airport]\n",
    "            size = np.sum(ls)\n",
    "            labels = ['Arr 0-2', 'Arr 2-4', 'Arr 4+', 'Conn 0-2','Conn 2-4','Conn 4+']\n",
    "\n",
    "            # The trick: plot as a Pie trace in a tiny inset domain\n",
    "            # Compute a domain box around (lon, lat)\n",
    "            # Map lon,lat to [0,1] for domain coordinates:\n",
    "            # approximate: lon -125 to -65 -> 0 to 1, lat 25 to 50 -> 0 to 1\n",
    "\n",
    "            domain_x = (lon + 130) / 70   # -125 to -65\n",
    "            domain_y = (lat - 20) / 35    # 25 to 50\n",
    "\n",
    "            scale = np.clip(size / 1000, 0.05, 0.2)  # adjust scale as needed\n",
    "\n",
    "            traces.append(go.Pie(\n",
    "                labels=labels,\n",
    "                values=ls,\n",
    "                hole=0.1,\n",
    "                domain=dict(\n",
    "                    x=[domain_x - scale/2, domain_x + scale/2],\n",
    "                    y=[domain_y - scale/2, domain_y + scale/2]\n",
    "                ),\n",
    "                showlegend=False\n",
    "            ))\n",
    "\n",
    "    fig = go.Figure(data=traces)\n",
    "\n",
    "    fig.update_layout(\n",
    "    title='American Airlines Hub Passenger Flow',\n",
    "    showlegend=False,\n",
    "    geo=dict(\n",
    "        scope='usa',\n",
    "        projection_type='albers usa',\n",
    "        showland=True,\n",
    "        landcolor='rgb(217, 217, 217)',\n",
    "        subunitcolor='rgb(255, 255, 255)',\n",
    "        countrycolor='rgb(255, 255, 255)',\n",
    "        lataxis=dict(range=[20, 55]),\n",
    "        lonaxis=dict(range=[-130, -60]),\n",
    "        center=dict(lat=39, lon=-98),\n",
    "         )\n",
    "        )\n",
    "\n",
    "    return fig"
   ]
  },
  {
   "cell_type": "code",
   "execution_count": 4,
   "id": "c50344c5",
   "metadata": {},
   "outputs": [],
   "source": [
    "import geopandas as gpd\n",
    "import pandas as pd\n",
    "import numpy as np\n",
    "import matplotlib.pyplot as plt\n",
    "import imageio"
   ]
  },
  {
   "cell_type": "code",
   "execution_count": 18,
   "id": "fffae974",
   "metadata": {},
   "outputs": [],
   "source": [
    "from matplotlib.patches import Wedge\n",
    "\n",
    "def draw_pie(ax, ratios, X, Y, size):\n",
    "    start = 0.\n",
    "    colors = plt.cm.tab10.colors  # or pick your own\n",
    "    for ratio, color in zip(ratios, colors):\n",
    "        theta1 = start * 360\n",
    "        theta2 = (start + ratio) * 360\n",
    "        wedge = Wedge(center=(X, Y), r=size, theta1=theta1, theta2=theta2, facecolor=color, edgecolor='k')\n",
    "        ax.add_patch(wedge)\n",
    "        start += ratio"
   ]
  },
  {
   "cell_type": "code",
   "execution_count": 24,
   "id": "40b9e5a9",
   "metadata": {},
   "outputs": [],
   "source": [
    "from mpl_toolkits.axes_grid1.inset_locator import inset_axes\n",
    "def draw_pie(ax, ratios, X, Y, size):\n",
    "    \"\"\"\n",
    "    Draw a pie chart at data coordinates (X, Y).\n",
    "    \"\"\"\n",
    "    # 1. Transform data coordinates to axes fraction\n",
    "    colors = plt.cm.tab10.colors \n",
    "    display_coords = ax.transData.transform((X, Y))\n",
    "    inv = ax.transAxes.inverted()\n",
    "    axes_coords = inv.transform(display_coords)\n",
    "\n",
    "    # 2. Create inset axes at that position\n",
    "    inset_ax = inset_axes(ax,\n",
    "                          width=size,\n",
    "                          height=size,\n",
    "                          loc='center',\n",
    "                          bbox_to_anchor=(axes_coords[0], axes_coords[1]),\n",
    "                          bbox_transform=ax.transAxes,\n",
    "                          borderpad=0)\n",
    "\n",
    "    # 3. Make pie chart\n",
    "    inset_ax.pie(ratios, colors=colors)\n",
    "    inset_ax.set_aspect('equal')\n",
    "    inset_ax.axis('off')"
   ]
  },
  {
   "cell_type": "code",
   "execution_count": 25,
   "id": "84ea3aee",
   "metadata": {},
   "outputs": [
    {
     "ename": "ValueError",
     "evalue": "Image size of 88560014x88560014 pixels is too large. It must be less than 2^16 in each direction.",
     "output_type": "error",
     "traceback": [
      "\u001b[1;31m---------------------------------------------------------------------------\u001b[0m",
      "\u001b[1;31mValueError\u001b[0m                                Traceback (most recent call last)",
      "\u001b[1;32mc:\\Users\\thewo\\Documents\\Git\\.default\\lib\\site-packages\\IPython\\core\\formatters.py\u001b[0m in \u001b[0;36m__call__\u001b[1;34m(self, obj)\u001b[0m\n\u001b[0;32m    339\u001b[0m                 \u001b[1;32mpass\u001b[0m\u001b[1;33m\u001b[0m\u001b[1;33m\u001b[0m\u001b[0m\n\u001b[0;32m    340\u001b[0m             \u001b[1;32melse\u001b[0m\u001b[1;33m:\u001b[0m\u001b[1;33m\u001b[0m\u001b[1;33m\u001b[0m\u001b[0m\n\u001b[1;32m--> 341\u001b[1;33m                 \u001b[1;32mreturn\u001b[0m \u001b[0mprinter\u001b[0m\u001b[1;33m(\u001b[0m\u001b[0mobj\u001b[0m\u001b[1;33m)\u001b[0m\u001b[1;33m\u001b[0m\u001b[1;33m\u001b[0m\u001b[0m\n\u001b[0m\u001b[0;32m    342\u001b[0m             \u001b[1;31m# Finally look for special method names\u001b[0m\u001b[1;33m\u001b[0m\u001b[1;33m\u001b[0m\u001b[0m\n\u001b[0;32m    343\u001b[0m             \u001b[0mmethod\u001b[0m \u001b[1;33m=\u001b[0m \u001b[0mget_real_method\u001b[0m\u001b[1;33m(\u001b[0m\u001b[0mobj\u001b[0m\u001b[1;33m,\u001b[0m \u001b[0mself\u001b[0m\u001b[1;33m.\u001b[0m\u001b[0mprint_method\u001b[0m\u001b[1;33m)\u001b[0m\u001b[1;33m\u001b[0m\u001b[1;33m\u001b[0m\u001b[0m\n",
      "\u001b[1;32mc:\\Users\\thewo\\Documents\\Git\\.default\\lib\\site-packages\\IPython\\core\\pylabtools.py\u001b[0m in \u001b[0;36mprint_figure\u001b[1;34m(fig, fmt, bbox_inches, base64, **kwargs)\u001b[0m\n\u001b[0;32m    149\u001b[0m         \u001b[0mFigureCanvasBase\u001b[0m\u001b[1;33m(\u001b[0m\u001b[0mfig\u001b[0m\u001b[1;33m)\u001b[0m\u001b[1;33m\u001b[0m\u001b[1;33m\u001b[0m\u001b[0m\n\u001b[0;32m    150\u001b[0m \u001b[1;33m\u001b[0m\u001b[0m\n\u001b[1;32m--> 151\u001b[1;33m     \u001b[0mfig\u001b[0m\u001b[1;33m.\u001b[0m\u001b[0mcanvas\u001b[0m\u001b[1;33m.\u001b[0m\u001b[0mprint_figure\u001b[0m\u001b[1;33m(\u001b[0m\u001b[0mbytes_io\u001b[0m\u001b[1;33m,\u001b[0m \u001b[1;33m**\u001b[0m\u001b[0mkw\u001b[0m\u001b[1;33m)\u001b[0m\u001b[1;33m\u001b[0m\u001b[1;33m\u001b[0m\u001b[0m\n\u001b[0m\u001b[0;32m    152\u001b[0m     \u001b[0mdata\u001b[0m \u001b[1;33m=\u001b[0m \u001b[0mbytes_io\u001b[0m\u001b[1;33m.\u001b[0m\u001b[0mgetvalue\u001b[0m\u001b[1;33m(\u001b[0m\u001b[1;33m)\u001b[0m\u001b[1;33m\u001b[0m\u001b[1;33m\u001b[0m\u001b[0m\n\u001b[0;32m    153\u001b[0m     \u001b[1;32mif\u001b[0m \u001b[0mfmt\u001b[0m \u001b[1;33m==\u001b[0m \u001b[1;34m'svg'\u001b[0m\u001b[1;33m:\u001b[0m\u001b[1;33m\u001b[0m\u001b[1;33m\u001b[0m\u001b[0m\n",
      "\u001b[1;32mc:\\Users\\thewo\\Documents\\Git\\.default\\lib\\site-packages\\matplotlib\\backend_bases.py\u001b[0m in \u001b[0;36mprint_figure\u001b[1;34m(self, filename, dpi, facecolor, edgecolor, orientation, format, bbox_inches, pad_inches, bbox_extra_artists, backend, **kwargs)\u001b[0m\n\u001b[0;32m   2317\u001b[0m                 \u001b[1;31m# force the figure dpi to 72), so we need to set it again here.\u001b[0m\u001b[1;33m\u001b[0m\u001b[1;33m\u001b[0m\u001b[0m\n\u001b[0;32m   2318\u001b[0m                 \u001b[1;32mwith\u001b[0m \u001b[0mcbook\u001b[0m\u001b[1;33m.\u001b[0m\u001b[0m_setattr_cm\u001b[0m\u001b[1;33m(\u001b[0m\u001b[0mself\u001b[0m\u001b[1;33m.\u001b[0m\u001b[0mfigure\u001b[0m\u001b[1;33m,\u001b[0m \u001b[0mdpi\u001b[0m\u001b[1;33m=\u001b[0m\u001b[0mdpi\u001b[0m\u001b[1;33m)\u001b[0m\u001b[1;33m:\u001b[0m\u001b[1;33m\u001b[0m\u001b[1;33m\u001b[0m\u001b[0m\n\u001b[1;32m-> 2319\u001b[1;33m                     result = print_method(\n\u001b[0m\u001b[0;32m   2320\u001b[0m                         \u001b[0mfilename\u001b[0m\u001b[1;33m,\u001b[0m\u001b[1;33m\u001b[0m\u001b[1;33m\u001b[0m\u001b[0m\n\u001b[0;32m   2321\u001b[0m                         \u001b[0mfacecolor\u001b[0m\u001b[1;33m=\u001b[0m\u001b[0mfacecolor\u001b[0m\u001b[1;33m,\u001b[0m\u001b[1;33m\u001b[0m\u001b[1;33m\u001b[0m\u001b[0m\n",
      "\u001b[1;32mc:\\Users\\thewo\\Documents\\Git\\.default\\lib\\site-packages\\matplotlib\\backend_bases.py\u001b[0m in \u001b[0;36mwrapper\u001b[1;34m(*args, **kwargs)\u001b[0m\n\u001b[0;32m   1646\u001b[0m             \u001b[0mkwargs\u001b[0m\u001b[1;33m.\u001b[0m\u001b[0mpop\u001b[0m\u001b[1;33m(\u001b[0m\u001b[0marg\u001b[0m\u001b[1;33m)\u001b[0m\u001b[1;33m\u001b[0m\u001b[1;33m\u001b[0m\u001b[0m\n\u001b[0;32m   1647\u001b[0m \u001b[1;33m\u001b[0m\u001b[0m\n\u001b[1;32m-> 1648\u001b[1;33m         \u001b[1;32mreturn\u001b[0m \u001b[0mfunc\u001b[0m\u001b[1;33m(\u001b[0m\u001b[1;33m*\u001b[0m\u001b[0margs\u001b[0m\u001b[1;33m,\u001b[0m \u001b[1;33m**\u001b[0m\u001b[0mkwargs\u001b[0m\u001b[1;33m)\u001b[0m\u001b[1;33m\u001b[0m\u001b[1;33m\u001b[0m\u001b[0m\n\u001b[0m\u001b[0;32m   1649\u001b[0m \u001b[1;33m\u001b[0m\u001b[0m\n\u001b[0;32m   1650\u001b[0m     \u001b[1;32mreturn\u001b[0m \u001b[0mwrapper\u001b[0m\u001b[1;33m\u001b[0m\u001b[1;33m\u001b[0m\u001b[0m\n",
      "\u001b[1;32mc:\\Users\\thewo\\Documents\\Git\\.default\\lib\\site-packages\\matplotlib\\_api\\deprecation.py\u001b[0m in \u001b[0;36mwrapper\u001b[1;34m(*inner_args, **inner_kwargs)\u001b[0m\n\u001b[0;32m    413\u001b[0m                          \u001b[1;32melse\u001b[0m \u001b[0mdeprecation_addendum\u001b[0m\u001b[1;33m,\u001b[0m\u001b[1;33m\u001b[0m\u001b[1;33m\u001b[0m\u001b[0m\n\u001b[0;32m    414\u001b[0m                 **kwargs)\n\u001b[1;32m--> 415\u001b[1;33m         \u001b[1;32mreturn\u001b[0m \u001b[0mfunc\u001b[0m\u001b[1;33m(\u001b[0m\u001b[1;33m*\u001b[0m\u001b[0minner_args\u001b[0m\u001b[1;33m,\u001b[0m \u001b[1;33m**\u001b[0m\u001b[0minner_kwargs\u001b[0m\u001b[1;33m)\u001b[0m\u001b[1;33m\u001b[0m\u001b[1;33m\u001b[0m\u001b[0m\n\u001b[0m\u001b[0;32m    416\u001b[0m \u001b[1;33m\u001b[0m\u001b[0m\n\u001b[0;32m    417\u001b[0m     \u001b[0mDECORATORS\u001b[0m\u001b[1;33m[\u001b[0m\u001b[0mwrapper\u001b[0m\u001b[1;33m]\u001b[0m \u001b[1;33m=\u001b[0m \u001b[0mdecorator\u001b[0m\u001b[1;33m\u001b[0m\u001b[1;33m\u001b[0m\u001b[0m\n",
      "\u001b[1;32mc:\\Users\\thewo\\Documents\\Git\\.default\\lib\\site-packages\\matplotlib\\backends\\backend_agg.py\u001b[0m in \u001b[0;36mprint_png\u001b[1;34m(self, filename_or_obj, metadata, pil_kwargs, *args)\u001b[0m\n\u001b[0;32m    538\u001b[0m             \u001b[1;33m*\u001b[0m\u001b[0mmetadata\u001b[0m\u001b[1;33m*\u001b[0m\u001b[1;33m,\u001b[0m \u001b[0mincluding\u001b[0m \u001b[0mthe\u001b[0m \u001b[0mdefault\u001b[0m \u001b[1;34m'Software'\u001b[0m \u001b[0mkey\u001b[0m\u001b[1;33m.\u001b[0m\u001b[1;33m\u001b[0m\u001b[1;33m\u001b[0m\u001b[0m\n\u001b[0;32m    539\u001b[0m         \"\"\"\n\u001b[1;32m--> 540\u001b[1;33m         \u001b[0mFigureCanvasAgg\u001b[0m\u001b[1;33m.\u001b[0m\u001b[0mdraw\u001b[0m\u001b[1;33m(\u001b[0m\u001b[0mself\u001b[0m\u001b[1;33m)\u001b[0m\u001b[1;33m\u001b[0m\u001b[1;33m\u001b[0m\u001b[0m\n\u001b[0m\u001b[0;32m    541\u001b[0m         mpl.image.imsave(\n\u001b[0;32m    542\u001b[0m             \u001b[0mfilename_or_obj\u001b[0m\u001b[1;33m,\u001b[0m \u001b[0mself\u001b[0m\u001b[1;33m.\u001b[0m\u001b[0mbuffer_rgba\u001b[0m\u001b[1;33m(\u001b[0m\u001b[1;33m)\u001b[0m\u001b[1;33m,\u001b[0m \u001b[0mformat\u001b[0m\u001b[1;33m=\u001b[0m\u001b[1;34m\"png\"\u001b[0m\u001b[1;33m,\u001b[0m \u001b[0morigin\u001b[0m\u001b[1;33m=\u001b[0m\u001b[1;34m\"upper\"\u001b[0m\u001b[1;33m,\u001b[0m\u001b[1;33m\u001b[0m\u001b[1;33m\u001b[0m\u001b[0m\n",
      "\u001b[1;32mc:\\Users\\thewo\\Documents\\Git\\.default\\lib\\site-packages\\matplotlib\\backends\\backend_agg.py\u001b[0m in \u001b[0;36mdraw\u001b[1;34m(self)\u001b[0m\n\u001b[0;32m    429\u001b[0m     \u001b[1;32mdef\u001b[0m \u001b[0mdraw\u001b[0m\u001b[1;33m(\u001b[0m\u001b[0mself\u001b[0m\u001b[1;33m)\u001b[0m\u001b[1;33m:\u001b[0m\u001b[1;33m\u001b[0m\u001b[1;33m\u001b[0m\u001b[0m\n\u001b[0;32m    430\u001b[0m         \u001b[1;31m# docstring inherited\u001b[0m\u001b[1;33m\u001b[0m\u001b[1;33m\u001b[0m\u001b[0m\n\u001b[1;32m--> 431\u001b[1;33m         \u001b[0mself\u001b[0m\u001b[1;33m.\u001b[0m\u001b[0mrenderer\u001b[0m \u001b[1;33m=\u001b[0m \u001b[0mself\u001b[0m\u001b[1;33m.\u001b[0m\u001b[0mget_renderer\u001b[0m\u001b[1;33m(\u001b[0m\u001b[0mcleared\u001b[0m\u001b[1;33m=\u001b[0m\u001b[1;32mTrue\u001b[0m\u001b[1;33m)\u001b[0m\u001b[1;33m\u001b[0m\u001b[1;33m\u001b[0m\u001b[0m\n\u001b[0m\u001b[0;32m    432\u001b[0m         \u001b[1;31m# Acquire a lock on the shared font cache.\u001b[0m\u001b[1;33m\u001b[0m\u001b[1;33m\u001b[0m\u001b[0m\n\u001b[0;32m    433\u001b[0m         \u001b[1;32mwith\u001b[0m \u001b[0mRendererAgg\u001b[0m\u001b[1;33m.\u001b[0m\u001b[0mlock\u001b[0m\u001b[1;33m,\u001b[0m\u001b[0;31m \u001b[0m\u001b[0;31m\\\u001b[0m\u001b[1;33m\u001b[0m\u001b[1;33m\u001b[0m\u001b[0m\n",
      "\u001b[1;32mc:\\Users\\thewo\\Documents\\Git\\.default\\lib\\site-packages\\matplotlib\\backends\\backend_agg.py\u001b[0m in \u001b[0;36mget_renderer\u001b[1;34m(self, cleared)\u001b[0m\n\u001b[0;32m    445\u001b[0m                           and getattr(self, \"_lastKey\", None) == key)\n\u001b[0;32m    446\u001b[0m         \u001b[1;32mif\u001b[0m \u001b[1;32mnot\u001b[0m \u001b[0mreuse_renderer\u001b[0m\u001b[1;33m:\u001b[0m\u001b[1;33m\u001b[0m\u001b[1;33m\u001b[0m\u001b[0m\n\u001b[1;32m--> 447\u001b[1;33m             \u001b[0mself\u001b[0m\u001b[1;33m.\u001b[0m\u001b[0mrenderer\u001b[0m \u001b[1;33m=\u001b[0m \u001b[0mRendererAgg\u001b[0m\u001b[1;33m(\u001b[0m\u001b[0mw\u001b[0m\u001b[1;33m,\u001b[0m \u001b[0mh\u001b[0m\u001b[1;33m,\u001b[0m \u001b[0mself\u001b[0m\u001b[1;33m.\u001b[0m\u001b[0mfigure\u001b[0m\u001b[1;33m.\u001b[0m\u001b[0mdpi\u001b[0m\u001b[1;33m)\u001b[0m\u001b[1;33m\u001b[0m\u001b[1;33m\u001b[0m\u001b[0m\n\u001b[0m\u001b[0;32m    448\u001b[0m             \u001b[0mself\u001b[0m\u001b[1;33m.\u001b[0m\u001b[0m_lastKey\u001b[0m \u001b[1;33m=\u001b[0m \u001b[0mkey\u001b[0m\u001b[1;33m\u001b[0m\u001b[1;33m\u001b[0m\u001b[0m\n\u001b[0;32m    449\u001b[0m         \u001b[1;32melif\u001b[0m \u001b[0mcleared\u001b[0m\u001b[1;33m:\u001b[0m\u001b[1;33m\u001b[0m\u001b[1;33m\u001b[0m\u001b[0m\n",
      "\u001b[1;32mc:\\Users\\thewo\\Documents\\Git\\.default\\lib\\site-packages\\matplotlib\\backends\\backend_agg.py\u001b[0m in \u001b[0;36m__init__\u001b[1;34m(self, width, height, dpi)\u001b[0m\n\u001b[0;32m     91\u001b[0m         \u001b[0mself\u001b[0m\u001b[1;33m.\u001b[0m\u001b[0mwidth\u001b[0m \u001b[1;33m=\u001b[0m \u001b[0mwidth\u001b[0m\u001b[1;33m\u001b[0m\u001b[1;33m\u001b[0m\u001b[0m\n\u001b[0;32m     92\u001b[0m         \u001b[0mself\u001b[0m\u001b[1;33m.\u001b[0m\u001b[0mheight\u001b[0m \u001b[1;33m=\u001b[0m \u001b[0mheight\u001b[0m\u001b[1;33m\u001b[0m\u001b[1;33m\u001b[0m\u001b[0m\n\u001b[1;32m---> 93\u001b[1;33m         \u001b[0mself\u001b[0m\u001b[1;33m.\u001b[0m\u001b[0m_renderer\u001b[0m \u001b[1;33m=\u001b[0m \u001b[0m_RendererAgg\u001b[0m\u001b[1;33m(\u001b[0m\u001b[0mint\u001b[0m\u001b[1;33m(\u001b[0m\u001b[0mwidth\u001b[0m\u001b[1;33m)\u001b[0m\u001b[1;33m,\u001b[0m \u001b[0mint\u001b[0m\u001b[1;33m(\u001b[0m\u001b[0mheight\u001b[0m\u001b[1;33m)\u001b[0m\u001b[1;33m,\u001b[0m \u001b[0mdpi\u001b[0m\u001b[1;33m)\u001b[0m\u001b[1;33m\u001b[0m\u001b[1;33m\u001b[0m\u001b[0m\n\u001b[0m\u001b[0;32m     94\u001b[0m         \u001b[0mself\u001b[0m\u001b[1;33m.\u001b[0m\u001b[0m_filter_renderers\u001b[0m \u001b[1;33m=\u001b[0m \u001b[1;33m[\u001b[0m\u001b[1;33m]\u001b[0m\u001b[1;33m\u001b[0m\u001b[1;33m\u001b[0m\u001b[0m\n\u001b[0;32m     95\u001b[0m \u001b[1;33m\u001b[0m\u001b[0m\n",
      "\u001b[1;31mValueError\u001b[0m: Image size of 88560014x88560014 pixels is too large. It must be less than 2^16 in each direction."
     ]
    },
    {
     "data": {
      "text/plain": [
       "<Figure size 1440x648 with 16 Axes>"
      ]
     },
     "metadata": {
      "needs_background": "light"
     },
     "output_type": "display_data"
    }
   ],
   "source": [
    "import cartopy.crs as ccrs\n",
    "import cartopy.feature as cfeature\n",
    "\n",
    "import matplotlib.pyplot as plt\n",
    "\n",
    "fig = plt.figure(figsize=(20,9))\n",
    "ax = plt.axes(projection=ccrs.LambertConformal())\n",
    "ax.set_extent([-130, -60, 20, 55])\n",
    "ax.add_feature(cfeature.STATES, edgecolor='gray')\n",
    "ax.add_feature(cfeature.COASTLINE)\n",
    "ax.add_feature(cfeature.BORDERS)\n",
    "ax.add_feature(cfeature.LAND, facecolor='lightgray')\n",
    "\n",
    "data = dayData[0]\n",
    "for airport in data:\n",
    "    lat, lon = iataDct[airport]\n",
    "    size = np.sum(data[airport])\n",
    "    if size > 0:\n",
    "        ratios = np.asarray(data[airport])/size\n",
    "        draw_pie(ax, ratios, lon, lat, size*5000)\n",
    "\n",
    "plt.show()"
   ]
  },
  {
   "cell_type": "code",
   "execution_count": 8,
   "id": "e8f97f55",
   "metadata": {},
   "outputs": [
    {
     "data": {
      "text/plain": [
       "[25.793, -80.291]"
      ]
     },
     "execution_count": 8,
     "metadata": {},
     "output_type": "execute_result"
    }
   ],
   "source": [
    "iataDct['MIA']"
   ]
  },
  {
   "cell_type": "code",
   "execution_count": 9,
   "id": "5802221b",
   "metadata": {},
   "outputs": [
    {
     "data": {
      "text/plain": [
       "[37.619, -122.375]"
      ]
     },
     "execution_count": 9,
     "metadata": {},
     "output_type": "execute_result"
    }
   ],
   "source": [
    "iataDct['SFO']"
   ]
  },
  {
   "cell_type": "code",
   "execution_count": 13,
   "id": "ea7a2026",
   "metadata": {},
   "outputs": [
    {
     "data": {
      "text/plain": [
       "[0, 33, 12, 0, 0, 0]"
      ]
     },
     "execution_count": 13,
     "metadata": {},
     "output_type": "execute_result"
    }
   ],
   "source": [
    "data['MIA']"
   ]
  },
  {
   "cell_type": "code",
   "execution_count": 19,
   "id": "094db202",
   "metadata": {},
   "outputs": [
    {
     "name": "stderr",
     "output_type": "stream",
     "text": [
      "C:\\Users\\thewo\\AppData\\Local\\Temp/ipykernel_31140/1724623915.py:6: RuntimeWarning: invalid value encountered in divide\n",
      "  ratios = values / total\n"
     ]
    },
    {
     "ename": "ValueError",
     "evalue": "cannot convert float NaN to integer",
     "output_type": "error",
     "traceback": [
      "\u001b[1;31m---------------------------------------------------------------------------\u001b[0m",
      "\u001b[1;31mValueError\u001b[0m                                Traceback (most recent call last)",
      "\u001b[1;32m~\\AppData\\Local\\Temp/ipykernel_31140/1724623915.py\u001b[0m in \u001b[0;36m<cell line: 2>\u001b[1;34m()\u001b[0m\n\u001b[0;32m      7\u001b[0m     \u001b[1;31m# Size: tune this factor to your liking\u001b[0m\u001b[1;33m\u001b[0m\u001b[1;33m\u001b[0m\u001b[0m\n\u001b[0;32m      8\u001b[0m     \u001b[0msize\u001b[0m \u001b[1;33m=\u001b[0m \u001b[1;36m2\u001b[0m \u001b[1;33m+\u001b[0m \u001b[0mtotal\u001b[0m \u001b[1;33m*\u001b[0m\u001b[1;36m10\u001b[0m \u001b[1;31m# adjust scaling\u001b[0m\u001b[1;33m\u001b[0m\u001b[1;33m\u001b[0m\u001b[0m\n\u001b[1;32m----> 9\u001b[1;33m     \u001b[0mdraw_pie\u001b[0m\u001b[1;33m(\u001b[0m\u001b[0max\u001b[0m\u001b[1;33m,\u001b[0m \u001b[0mratios\u001b[0m\u001b[1;33m,\u001b[0m \u001b[0mlon\u001b[0m\u001b[1;33m,\u001b[0m \u001b[0mlat\u001b[0m\u001b[1;33m,\u001b[0m \u001b[0msize\u001b[0m\u001b[1;33m)\u001b[0m\u001b[1;33m\u001b[0m\u001b[1;33m\u001b[0m\u001b[0m\n\u001b[0m\u001b[0;32m     10\u001b[0m \u001b[1;33m\u001b[0m\u001b[0m\n\u001b[0;32m     11\u001b[0m \u001b[0max\u001b[0m\u001b[1;33m.\u001b[0m\u001b[0mset_title\u001b[0m\u001b[1;33m(\u001b[0m\u001b[1;34mf\"Passenger categories at time \"\u001b[0m\u001b[1;33m)\u001b[0m\u001b[1;33m\u001b[0m\u001b[1;33m\u001b[0m\u001b[0m\n",
      "\u001b[1;32m~\\AppData\\Local\\Temp/ipykernel_31140/1537122277.py\u001b[0m in \u001b[0;36mdraw_pie\u001b[1;34m(ax, ratios, X, Y, size)\u001b[0m\n\u001b[0;32m      8\u001b[0m         \u001b[0mtheta1\u001b[0m \u001b[1;33m=\u001b[0m \u001b[0mstart\u001b[0m \u001b[1;33m*\u001b[0m \u001b[1;36m360\u001b[0m\u001b[1;33m\u001b[0m\u001b[1;33m\u001b[0m\u001b[0m\n\u001b[0;32m      9\u001b[0m         \u001b[0mtheta2\u001b[0m \u001b[1;33m=\u001b[0m \u001b[1;33m(\u001b[0m\u001b[0mstart\u001b[0m \u001b[1;33m+\u001b[0m \u001b[0mratio\u001b[0m\u001b[1;33m)\u001b[0m \u001b[1;33m*\u001b[0m \u001b[1;36m360\u001b[0m\u001b[1;33m\u001b[0m\u001b[1;33m\u001b[0m\u001b[0m\n\u001b[1;32m---> 10\u001b[1;33m         \u001b[0mwedge\u001b[0m \u001b[1;33m=\u001b[0m \u001b[0mWedge\u001b[0m\u001b[1;33m(\u001b[0m\u001b[0mcenter\u001b[0m\u001b[1;33m=\u001b[0m\u001b[1;33m(\u001b[0m\u001b[0mx\u001b[0m\u001b[1;33m,\u001b[0m \u001b[0my\u001b[0m\u001b[1;33m)\u001b[0m\u001b[1;33m,\u001b[0m \u001b[0mr\u001b[0m\u001b[1;33m=\u001b[0m\u001b[0msize\u001b[0m\u001b[1;33m,\u001b[0m \u001b[0mtheta1\u001b[0m\u001b[1;33m=\u001b[0m\u001b[0mtheta1\u001b[0m\u001b[1;33m,\u001b[0m \u001b[0mtheta2\u001b[0m\u001b[1;33m=\u001b[0m\u001b[0mtheta2\u001b[0m\u001b[1;33m,\u001b[0m \u001b[0mfacecolor\u001b[0m\u001b[1;33m=\u001b[0m\u001b[0mcolor\u001b[0m\u001b[1;33m,\u001b[0m \u001b[0medgecolor\u001b[0m\u001b[1;33m=\u001b[0m\u001b[1;34m'k'\u001b[0m\u001b[1;33m)\u001b[0m\u001b[1;33m\u001b[0m\u001b[1;33m\u001b[0m\u001b[0m\n\u001b[0m\u001b[0;32m     11\u001b[0m         \u001b[0max\u001b[0m\u001b[1;33m.\u001b[0m\u001b[0madd_patch\u001b[0m\u001b[1;33m(\u001b[0m\u001b[0mwedge\u001b[0m\u001b[1;33m)\u001b[0m\u001b[1;33m\u001b[0m\u001b[1;33m\u001b[0m\u001b[0m\n\u001b[0;32m     12\u001b[0m         \u001b[0mstart\u001b[0m \u001b[1;33m+=\u001b[0m \u001b[0mratio\u001b[0m\u001b[1;33m\u001b[0m\u001b[1;33m\u001b[0m\u001b[0m\n",
      "\u001b[1;32mc:\\Users\\thewo\\Documents\\Git\\.default\\lib\\site-packages\\matplotlib\\patches.py\u001b[0m in \u001b[0;36m__init__\u001b[1;34m(self, center, r, theta1, theta2, width, **kwargs)\u001b[0m\n\u001b[0;32m   1162\u001b[0m         \u001b[0mself\u001b[0m\u001b[1;33m.\u001b[0m\u001b[0mtheta1\u001b[0m\u001b[1;33m,\u001b[0m \u001b[0mself\u001b[0m\u001b[1;33m.\u001b[0m\u001b[0mtheta2\u001b[0m \u001b[1;33m=\u001b[0m \u001b[0mtheta1\u001b[0m\u001b[1;33m,\u001b[0m \u001b[0mtheta2\u001b[0m\u001b[1;33m\u001b[0m\u001b[1;33m\u001b[0m\u001b[0m\n\u001b[0;32m   1163\u001b[0m         \u001b[0mself\u001b[0m\u001b[1;33m.\u001b[0m\u001b[0m_patch_transform\u001b[0m \u001b[1;33m=\u001b[0m \u001b[0mtransforms\u001b[0m\u001b[1;33m.\u001b[0m\u001b[0mIdentityTransform\u001b[0m\u001b[1;33m(\u001b[0m\u001b[1;33m)\u001b[0m\u001b[1;33m\u001b[0m\u001b[1;33m\u001b[0m\u001b[0m\n\u001b[1;32m-> 1164\u001b[1;33m         \u001b[0mself\u001b[0m\u001b[1;33m.\u001b[0m\u001b[0m_recompute_path\u001b[0m\u001b[1;33m(\u001b[0m\u001b[1;33m)\u001b[0m\u001b[1;33m\u001b[0m\u001b[1;33m\u001b[0m\u001b[0m\n\u001b[0m\u001b[0;32m   1165\u001b[0m \u001b[1;33m\u001b[0m\u001b[0m\n\u001b[0;32m   1166\u001b[0m     \u001b[1;32mdef\u001b[0m \u001b[0m_recompute_path\u001b[0m\u001b[1;33m(\u001b[0m\u001b[0mself\u001b[0m\u001b[1;33m)\u001b[0m\u001b[1;33m:\u001b[0m\u001b[1;33m\u001b[0m\u001b[1;33m\u001b[0m\u001b[0m\n",
      "\u001b[1;32mc:\\Users\\thewo\\Documents\\Git\\.default\\lib\\site-packages\\matplotlib\\patches.py\u001b[0m in \u001b[0;36m_recompute_path\u001b[1;34m(self)\u001b[0m\n\u001b[0;32m   1174\u001b[0m \u001b[1;33m\u001b[0m\u001b[0m\n\u001b[0;32m   1175\u001b[0m         \u001b[1;31m# Form the outer ring\u001b[0m\u001b[1;33m\u001b[0m\u001b[1;33m\u001b[0m\u001b[0m\n\u001b[1;32m-> 1176\u001b[1;33m         \u001b[0marc\u001b[0m \u001b[1;33m=\u001b[0m \u001b[0mPath\u001b[0m\u001b[1;33m.\u001b[0m\u001b[0marc\u001b[0m\u001b[1;33m(\u001b[0m\u001b[0mtheta1\u001b[0m\u001b[1;33m,\u001b[0m \u001b[0mtheta2\u001b[0m\u001b[1;33m)\u001b[0m\u001b[1;33m\u001b[0m\u001b[1;33m\u001b[0m\u001b[0m\n\u001b[0m\u001b[0;32m   1177\u001b[0m \u001b[1;33m\u001b[0m\u001b[0m\n\u001b[0;32m   1178\u001b[0m         \u001b[1;32mif\u001b[0m \u001b[0mself\u001b[0m\u001b[1;33m.\u001b[0m\u001b[0mwidth\u001b[0m \u001b[1;32mis\u001b[0m \u001b[1;32mnot\u001b[0m \u001b[1;32mNone\u001b[0m\u001b[1;33m:\u001b[0m\u001b[1;33m\u001b[0m\u001b[1;33m\u001b[0m\u001b[0m\n",
      "\u001b[1;32mc:\\Users\\thewo\\Documents\\Git\\.default\\lib\\site-packages\\matplotlib\\path.py\u001b[0m in \u001b[0;36marc\u001b[1;34m(cls, theta1, theta2, n, is_wedge)\u001b[0m\n\u001b[0;32m    945\u001b[0m         \u001b[1;31m# number of curve segments to make\u001b[0m\u001b[1;33m\u001b[0m\u001b[1;33m\u001b[0m\u001b[0m\n\u001b[0;32m    946\u001b[0m         \u001b[1;32mif\u001b[0m \u001b[0mn\u001b[0m \u001b[1;32mis\u001b[0m \u001b[1;32mNone\u001b[0m\u001b[1;33m:\u001b[0m\u001b[1;33m\u001b[0m\u001b[1;33m\u001b[0m\u001b[0m\n\u001b[1;32m--> 947\u001b[1;33m             \u001b[0mn\u001b[0m \u001b[1;33m=\u001b[0m \u001b[0mint\u001b[0m\u001b[1;33m(\u001b[0m\u001b[1;36m2\u001b[0m \u001b[1;33m**\u001b[0m \u001b[0mnp\u001b[0m\u001b[1;33m.\u001b[0m\u001b[0mceil\u001b[0m\u001b[1;33m(\u001b[0m\u001b[1;33m(\u001b[0m\u001b[0meta2\u001b[0m \u001b[1;33m-\u001b[0m \u001b[0meta1\u001b[0m\u001b[1;33m)\u001b[0m \u001b[1;33m/\u001b[0m \u001b[0mhalfpi\u001b[0m\u001b[1;33m)\u001b[0m\u001b[1;33m)\u001b[0m\u001b[1;33m\u001b[0m\u001b[1;33m\u001b[0m\u001b[0m\n\u001b[0m\u001b[0;32m    948\u001b[0m         \u001b[1;32mif\u001b[0m \u001b[0mn\u001b[0m \u001b[1;33m<\u001b[0m \u001b[1;36m1\u001b[0m\u001b[1;33m:\u001b[0m\u001b[1;33m\u001b[0m\u001b[1;33m\u001b[0m\u001b[0m\n\u001b[0;32m    949\u001b[0m             \u001b[1;32mraise\u001b[0m \u001b[0mValueError\u001b[0m\u001b[1;33m(\u001b[0m\u001b[1;34m\"n must be >= 1 or None\"\u001b[0m\u001b[1;33m)\u001b[0m\u001b[1;33m\u001b[0m\u001b[1;33m\u001b[0m\u001b[0m\n",
      "\u001b[1;31mValueError\u001b[0m: cannot convert float NaN to integer"
     ]
    }
   ],
   "source": [
    "data = dayData[0]\n",
    "for airport in data:\n",
    "    values = np.asarray(data[airport])\n",
    "    lat, lon = iataDct[airport]\n",
    "    total = np.sum(values)\n",
    "    ratios = values / total\n",
    "    # Size: tune this factor to your liking\n",
    "    size = 2 + total *10 # adjust scaling\n",
    "    draw_pie(ax, ratios, lon, lat, size)\n",
    "\n",
    "ax.set_title(f\"Passenger categories at time \")\n",
    "ax.set_xlim(-130, -60)\n",
    "ax.set_ylim(20, 55)\n",
    "ax.axis('off')\n",
    "\n",
    "plt.show()"
   ]
  },
  {
   "cell_type": "code",
   "execution_count": 9,
   "id": "0e3f07ef",
   "metadata": {},
   "outputs": [],
   "source": [
    "plt.show()"
   ]
  },
  {
   "cell_type": "code",
   "execution_count": null,
   "id": "28488af7",
   "metadata": {},
   "outputs": [
    {
     "name": "stderr",
     "output_type": "stream",
     "text": [
      "C:\\Users\\thewo\\AppData\\Local\\Temp/ipykernel_18780/2148971404.py:42: RuntimeWarning:\n",
      "\n",
      "invalid value encountered in divide\n",
      "\n"
     ]
    },
    {
     "ename": "ValueError",
     "evalue": "cannot convert float NaN to integer",
     "output_type": "error",
     "traceback": [
      "\u001b[1;31m---------------------------------------------------------------------------\u001b[0m",
      "\u001b[1;31mValueError\u001b[0m                                Traceback (most recent call last)",
      "\u001b[1;32m~\\AppData\\Local\\Temp/ipykernel_18780/2148971404.py\u001b[0m in \u001b[0;36m<cell line: 38>\u001b[1;34m()\u001b[0m\n\u001b[0;32m     43\u001b[0m     \u001b[1;31m# Size: tune this factor to your liking\u001b[0m\u001b[1;33m\u001b[0m\u001b[1;33m\u001b[0m\u001b[0m\n\u001b[0;32m     44\u001b[0m     \u001b[0msize\u001b[0m \u001b[1;33m=\u001b[0m \u001b[1;36m2\u001b[0m \u001b[1;33m+\u001b[0m \u001b[0mtotal\u001b[0m \u001b[1;33m/\u001b[0m \u001b[1;36m500\u001b[0m  \u001b[1;31m# adjust scaling\u001b[0m\u001b[1;33m\u001b[0m\u001b[1;33m\u001b[0m\u001b[0m\n\u001b[1;32m---> 45\u001b[1;33m     \u001b[0mdraw_pie\u001b[0m\u001b[1;33m(\u001b[0m\u001b[0max\u001b[0m\u001b[1;33m,\u001b[0m \u001b[0mratios\u001b[0m\u001b[1;33m,\u001b[0m \u001b[0mlon\u001b[0m\u001b[1;33m,\u001b[0m \u001b[0mlat\u001b[0m\u001b[1;33m,\u001b[0m \u001b[0msize\u001b[0m\u001b[1;33m)\u001b[0m\u001b[1;33m\u001b[0m\u001b[1;33m\u001b[0m\u001b[0m\n\u001b[0m\u001b[0;32m     46\u001b[0m \u001b[1;33m\u001b[0m\u001b[0m\n\u001b[0;32m     47\u001b[0m \u001b[0max\u001b[0m\u001b[1;33m.\u001b[0m\u001b[0mset_title\u001b[0m\u001b[1;33m(\u001b[0m\u001b[1;34mf\"Passenger categories at time \"\u001b[0m\u001b[1;33m)\u001b[0m\u001b[1;33m\u001b[0m\u001b[1;33m\u001b[0m\u001b[0m\n",
      "\u001b[1;32m~\\AppData\\Local\\Temp/ipykernel_18780/2148971404.py\u001b[0m in \u001b[0;36mdraw_pie\u001b[1;34m(ax, ratios, X, Y, size)\u001b[0m\n\u001b[0;32m     24\u001b[0m         \u001b[0mtheta1\u001b[0m \u001b[1;33m=\u001b[0m \u001b[0mstart\u001b[0m \u001b[1;33m*\u001b[0m \u001b[1;36m360\u001b[0m\u001b[1;33m\u001b[0m\u001b[1;33m\u001b[0m\u001b[0m\n\u001b[0;32m     25\u001b[0m         \u001b[0mtheta2\u001b[0m \u001b[1;33m=\u001b[0m \u001b[1;33m(\u001b[0m\u001b[0mstart\u001b[0m \u001b[1;33m+\u001b[0m \u001b[0mratio\u001b[0m\u001b[1;33m)\u001b[0m \u001b[1;33m*\u001b[0m \u001b[1;36m360\u001b[0m\u001b[1;33m\u001b[0m\u001b[1;33m\u001b[0m\u001b[0m\n\u001b[1;32m---> 26\u001b[1;33m         \u001b[0mwedge\u001b[0m \u001b[1;33m=\u001b[0m \u001b[0mWedge\u001b[0m\u001b[1;33m(\u001b[0m\u001b[0mcenter\u001b[0m\u001b[1;33m=\u001b[0m\u001b[1;33m(\u001b[0m\u001b[0mx\u001b[0m\u001b[1;33m,\u001b[0m \u001b[0my\u001b[0m\u001b[1;33m)\u001b[0m\u001b[1;33m,\u001b[0m \u001b[0mr\u001b[0m\u001b[1;33m=\u001b[0m\u001b[0msize\u001b[0m\u001b[1;33m,\u001b[0m \u001b[0mtheta1\u001b[0m\u001b[1;33m=\u001b[0m\u001b[0mtheta1\u001b[0m\u001b[1;33m,\u001b[0m \u001b[0mtheta2\u001b[0m\u001b[1;33m=\u001b[0m\u001b[0mtheta2\u001b[0m\u001b[1;33m,\u001b[0m \u001b[0mfacecolor\u001b[0m\u001b[1;33m=\u001b[0m\u001b[0mcolor\u001b[0m\u001b[1;33m,\u001b[0m \u001b[0medgecolor\u001b[0m\u001b[1;33m=\u001b[0m\u001b[1;34m'k'\u001b[0m\u001b[1;33m)\u001b[0m\u001b[1;33m\u001b[0m\u001b[1;33m\u001b[0m\u001b[0m\n\u001b[0m\u001b[0;32m     27\u001b[0m         \u001b[0max\u001b[0m\u001b[1;33m.\u001b[0m\u001b[0madd_patch\u001b[0m\u001b[1;33m(\u001b[0m\u001b[0mwedge\u001b[0m\u001b[1;33m)\u001b[0m\u001b[1;33m\u001b[0m\u001b[1;33m\u001b[0m\u001b[0m\n\u001b[0;32m     28\u001b[0m         \u001b[0mstart\u001b[0m \u001b[1;33m+=\u001b[0m \u001b[0mratio\u001b[0m\u001b[1;33m\u001b[0m\u001b[1;33m\u001b[0m\u001b[0m\n",
      "\u001b[1;32mc:\\Users\\thewo\\Documents\\Git\\.default\\lib\\site-packages\\matplotlib\\patches.py\u001b[0m in \u001b[0;36m__init__\u001b[1;34m(self, center, r, theta1, theta2, width, **kwargs)\u001b[0m\n\u001b[0;32m   1162\u001b[0m         \u001b[0mself\u001b[0m\u001b[1;33m.\u001b[0m\u001b[0mtheta1\u001b[0m\u001b[1;33m,\u001b[0m \u001b[0mself\u001b[0m\u001b[1;33m.\u001b[0m\u001b[0mtheta2\u001b[0m \u001b[1;33m=\u001b[0m \u001b[0mtheta1\u001b[0m\u001b[1;33m,\u001b[0m \u001b[0mtheta2\u001b[0m\u001b[1;33m\u001b[0m\u001b[1;33m\u001b[0m\u001b[0m\n\u001b[0;32m   1163\u001b[0m         \u001b[0mself\u001b[0m\u001b[1;33m.\u001b[0m\u001b[0m_patch_transform\u001b[0m \u001b[1;33m=\u001b[0m \u001b[0mtransforms\u001b[0m\u001b[1;33m.\u001b[0m\u001b[0mIdentityTransform\u001b[0m\u001b[1;33m(\u001b[0m\u001b[1;33m)\u001b[0m\u001b[1;33m\u001b[0m\u001b[1;33m\u001b[0m\u001b[0m\n\u001b[1;32m-> 1164\u001b[1;33m         \u001b[0mself\u001b[0m\u001b[1;33m.\u001b[0m\u001b[0m_recompute_path\u001b[0m\u001b[1;33m(\u001b[0m\u001b[1;33m)\u001b[0m\u001b[1;33m\u001b[0m\u001b[1;33m\u001b[0m\u001b[0m\n\u001b[0m\u001b[0;32m   1165\u001b[0m \u001b[1;33m\u001b[0m\u001b[0m\n\u001b[0;32m   1166\u001b[0m     \u001b[1;32mdef\u001b[0m \u001b[0m_recompute_path\u001b[0m\u001b[1;33m(\u001b[0m\u001b[0mself\u001b[0m\u001b[1;33m)\u001b[0m\u001b[1;33m:\u001b[0m\u001b[1;33m\u001b[0m\u001b[1;33m\u001b[0m\u001b[0m\n",
      "\u001b[1;32mc:\\Users\\thewo\\Documents\\Git\\.default\\lib\\site-packages\\matplotlib\\patches.py\u001b[0m in \u001b[0;36m_recompute_path\u001b[1;34m(self)\u001b[0m\n\u001b[0;32m   1174\u001b[0m \u001b[1;33m\u001b[0m\u001b[0m\n\u001b[0;32m   1175\u001b[0m         \u001b[1;31m# Form the outer ring\u001b[0m\u001b[1;33m\u001b[0m\u001b[1;33m\u001b[0m\u001b[0m\n\u001b[1;32m-> 1176\u001b[1;33m         \u001b[0marc\u001b[0m \u001b[1;33m=\u001b[0m \u001b[0mPath\u001b[0m\u001b[1;33m.\u001b[0m\u001b[0marc\u001b[0m\u001b[1;33m(\u001b[0m\u001b[0mtheta1\u001b[0m\u001b[1;33m,\u001b[0m \u001b[0mtheta2\u001b[0m\u001b[1;33m)\u001b[0m\u001b[1;33m\u001b[0m\u001b[1;33m\u001b[0m\u001b[0m\n\u001b[0m\u001b[0;32m   1177\u001b[0m \u001b[1;33m\u001b[0m\u001b[0m\n\u001b[0;32m   1178\u001b[0m         \u001b[1;32mif\u001b[0m \u001b[0mself\u001b[0m\u001b[1;33m.\u001b[0m\u001b[0mwidth\u001b[0m \u001b[1;32mis\u001b[0m \u001b[1;32mnot\u001b[0m \u001b[1;32mNone\u001b[0m\u001b[1;33m:\u001b[0m\u001b[1;33m\u001b[0m\u001b[1;33m\u001b[0m\u001b[0m\n",
      "\u001b[1;32mc:\\Users\\thewo\\Documents\\Git\\.default\\lib\\site-packages\\matplotlib\\path.py\u001b[0m in \u001b[0;36marc\u001b[1;34m(cls, theta1, theta2, n, is_wedge)\u001b[0m\n\u001b[0;32m    945\u001b[0m         \u001b[1;31m# number of curve segments to make\u001b[0m\u001b[1;33m\u001b[0m\u001b[1;33m\u001b[0m\u001b[0m\n\u001b[0;32m    946\u001b[0m         \u001b[1;32mif\u001b[0m \u001b[0mn\u001b[0m \u001b[1;32mis\u001b[0m \u001b[1;32mNone\u001b[0m\u001b[1;33m:\u001b[0m\u001b[1;33m\u001b[0m\u001b[1;33m\u001b[0m\u001b[0m\n\u001b[1;32m--> 947\u001b[1;33m             \u001b[0mn\u001b[0m \u001b[1;33m=\u001b[0m \u001b[0mint\u001b[0m\u001b[1;33m(\u001b[0m\u001b[1;36m2\u001b[0m \u001b[1;33m**\u001b[0m \u001b[0mnp\u001b[0m\u001b[1;33m.\u001b[0m\u001b[0mceil\u001b[0m\u001b[1;33m(\u001b[0m\u001b[1;33m(\u001b[0m\u001b[0meta2\u001b[0m \u001b[1;33m-\u001b[0m \u001b[0meta1\u001b[0m\u001b[1;33m)\u001b[0m \u001b[1;33m/\u001b[0m \u001b[0mhalfpi\u001b[0m\u001b[1;33m)\u001b[0m\u001b[1;33m)\u001b[0m\u001b[1;33m\u001b[0m\u001b[1;33m\u001b[0m\u001b[0m\n\u001b[0m\u001b[0;32m    948\u001b[0m         \u001b[1;32mif\u001b[0m \u001b[0mn\u001b[0m \u001b[1;33m<\u001b[0m \u001b[1;36m1\u001b[0m\u001b[1;33m:\u001b[0m\u001b[1;33m\u001b[0m\u001b[1;33m\u001b[0m\u001b[0m\n\u001b[0;32m    949\u001b[0m             \u001b[1;32mraise\u001b[0m \u001b[0mValueError\u001b[0m\u001b[1;33m(\u001b[0m\u001b[1;34m\"n must be >= 1 or None\"\u001b[0m\u001b[1;33m)\u001b[0m\u001b[1;33m\u001b[0m\u001b[1;33m\u001b[0m\u001b[0m\n",
      "\u001b[1;31mValueError\u001b[0m: cannot convert float NaN to integer"
     ]
    },
    {
     "data": {
      "image/png": "[encoded data removed]",
      "text/plain": [
       "<Figure size 720x432 with 1 Axes>"
      ]
     },
     "metadata": {
      "needs_background": "light"
     },
     "output_type": "display_data"
    },
    {
     "data": {
      "image/png": "[encoded data removed]",
      "text/plain": [
       "<Figure size 720x432 with 1 Axes>"
      ]
     },
     "metadata": {
      "needs_background": "light"
     },
     "output_type": "display_data"
    }
   ],
   "source": [
    "\n",
    "\n",
    "# ---------------------------\n",
    "# 3) Function to plot a pie chart at lon/lat\n",
    "# ---------------------------\n",
    "\n",
    "\n",
    "# ---------------------------\n",
    "# 4) Generate frames\n",
    "# ---------------------------\n",
    "frames = []\n",
    "fig, ax = plt.subplots(figsize=(10, 6))\n",
    "data = dayData[0]\n",
    "\n",
    "\n",
    "for airport in data:\n",
    "    values = np.asarray(data[airport])\n",
    "    lat, lon = iataDct[airport]\n",
    "    total = np.sum(values)\n",
    "    ratios = values / total\n",
    "    # Size: tune this factor to your liking\n",
    "    size = 2 + total *10 # adjust scaling\n",
    "    draw_pie(ax, ratios, lon, lat, size)\n",
    "\n",
    "ax.set_title(f\"Passenger categories at time \")\n",
    "ax.set_xlim(-130, -60)\n",
    "ax.set_ylim(20, 55)\n",
    "ax.axis('off')\n",
    "\n",
    "plt.show()\n",
    "#    filename = f\"frame_{t:03d}.png\""
   ]
  },
  {
   "cell_type": "code",
   "execution_count": null,
   "id": "6682b112",
   "metadata": {},
   "outputs": [
    {
     "data": {
      "text/plain": [
       "144"
      ]
     },
     "execution_count": 47,
     "metadata": {},
     "output_type": "execute_result"
    }
   ],
   "source": []
  },
  {
   "cell_type": "code",
   "execution_count": 48,
   "id": "dbbbfce2",
   "metadata": {},
   "outputs": [
    {
     "data": {
      "application/vnd.plotly.v1+json": {
       "config": {
        "plotlyServerURL": "https://plot.ly"
       },
       "data": [
        {
         "domain": {
          "x": [
           0.6101285714285715,
           0.8101285714285714
          ],
          "y": [
           0.06551428571428569,
           0.2655142857142857
          ]
         },
         "hole": 0.1,
         "labels": [
          "Arr 0-2",
          "Arr 2-4",
          "Arr 4+",
          "Conn 0-2",
          "Conn 2-4",
          "Conn 4+"
         ],
         "showlegend": false,
         "type": "pie",
         "values": [
          197,
          127,
          7,
          208,
          399,
          640
         ]
        },
        {
         "domain": {
          "x": [
           0.008928571428571425,
           0.20892857142857144
          ],
          "y": [
           0.4034,
           0.6033999999999999
          ]
         },
         "hole": 0.1,
         "labels": [
          "Arr 0-2",
          "Arr 2-4",
          "Arr 4+",
          "Conn 0-2",
          "Conn 2-4",
          "Conn 4+"
         ],
         "showlegend": false,
         "type": "pie",
         "values": [
          308,
          0,
          0,
          0,
          2,
          10
         ]
        },
        {
         "domain": {
          "x": [
           0.3708999999999999,
           0.5709
          ],
          "y": [
           0.26845714285714284,
           0.4684571428571429
          ]
         },
         "hole": 0.1,
         "labels": [
          "Arr 0-2",
          "Arr 2-4",
          "Arr 4+",
          "Conn 0-2",
          "Conn 2-4",
          "Conn 4+"
         ],
         "showlegend": false,
         "type": "pie",
         "values": [
          733,
          85,
          72,
          3051,
          1343,
          950
         ]
        },
        {
         "domain": {
          "x": [
           0.6008142857142857,
           0.8008142857142857
          ],
          "y": [
           0.33468571428571425,
           0.5346857142857142
          ]
         },
         "hole": 0.1,
         "labels": [
          "Arr 0-2",
          "Arr 2-4",
          "Arr 4+",
          "Conn 0-2",
          "Conn 2-4",
          "Conn 4+"
         ],
         "showlegend": false,
         "type": "pie",
         "values": [
          33,
          41,
          46,
          329,
          571,
          279
         ]
        },
        {
         "domain": {
          "x": [
           0.5013714285714287,
           0.7013714285714286
          ],
          "y": [
           0.5279714285714285,
           0.7279714285714285
          ]
         },
         "hole": 0.1,
         "labels": [
          "Arr 0-2",
          "Arr 2-4",
          "Arr 4+",
          "Conn 0-2",
          "Conn 2-4",
          "Conn 4+"
         ],
         "showlegend": false,
         "type": "pie",
         "values": [
          654,
          247,
          175,
          741,
          294,
          230
         ]
        },
        {
         "domain": {
          "x": [
           0.7031571428571429,
           0.9031571428571429
          ],
          "y": [
           0.48971428571428577,
           0.6897142857142857
          ]
         },
         "hole": 0.1,
         "labels": [
          "Arr 0-2",
          "Arr 2-4",
          "Arr 4+",
          "Conn 0-2",
          "Conn 2-4",
          "Conn 4+"
         ],
         "showlegend": false,
         "type": "pie",
         "values": [
          229,
          120,
          84,
          7,
          19,
          76
         ]
        },
        {
         "domain": {
          "x": [
           0.1121142857142857,
           0.3121142857142857
          ],
          "y": [
           0.3594285714285713,
           0.5594285714285714
          ]
         },
         "hole": 0.1,
         "labels": [
          "Arr 0-2",
          "Arr 2-4",
          "Arr 4+",
          "Conn 0-2",
          "Conn 2-4",
          "Conn 4+"
         ],
         "showlegend": false,
         "type": "pie",
         "values": [
          161,
          89,
          0,
          69,
          75,
          43
         ]
        },
        {
         "domain": {
          "x": [
           0.06559999999999996,
           0.26559999999999995
          ],
          "y": [
           0.29834285714285713,
           0.4983428571428572
          ]
         },
         "hole": 0.1,
         "labels": [
          "Arr 0-2",
          "Arr 2-4",
          "Arr 4+",
          "Conn 0-2",
          "Conn 2-4",
          "Conn 4+"
         ],
         "showlegend": false,
         "type": "pie",
         "values": [
          528,
          0,
          54,
          229,
          167,
          153
         ]
        },
        {
         "domain": {
          "x": [
           0.8177857142857143,
           0.8677857142857144
          ],
          "y": [
           0.6139714285714285,
           0.6639714285714285
          ]
         },
         "hole": 0.1,
         "labels": [
          "Arr 0-2",
          "Arr 2-4",
          "Arr 4+",
          "Conn 0-2",
          "Conn 2-4",
          "Conn 4+"
         ],
         "showlegend": false,
         "type": "pie",
         "values": [
          0,
          1,
          15,
          0,
          0,
          0
         ]
        },
        {
         "domain": {
          "x": [
           0.7368857142857141,
           0.7868857142857142
          ],
          "y": [
           0.5228571428571428,
           0.5728571428571428
          ]
         },
         "hole": 0.1,
         "labels": [
          "Arr 0-2",
          "Arr 2-4",
          "Arr 4+",
          "Conn 0-2",
          "Conn 2-4",
          "Conn 4+"
         ],
         "showlegend": false,
         "type": "pie",
         "values": [
          0,
          0,
          0,
          0,
          0,
          0
         ]
        },
        {
         "domain": {
          "x": [
           0.6736142857142856,
           0.8396142857142855
          ],
          "y": [
           0.4556285714285713,
           0.6216285714285713
          ]
         },
         "hole": 0.1,
         "labels": [
          "Arr 0-2",
          "Arr 2-4",
          "Arr 4+",
          "Conn 0-2",
          "Conn 2-4",
          "Conn 4+"
         ],
         "showlegend": false,
         "type": "pie",
         "values": [
          0,
          15,
          34,
          26,
          55,
          36
         ]
        },
        {
         "domain": {
          "x": [
           0.1570285714285715,
           0.3570285714285715
          ],
          "y": [
           0.2838285714285713,
           0.4838285714285714
          ]
         },
         "hole": 0.1,
         "labels": [
          "Arr 0-2",
          "Arr 2-4",
          "Arr 4+",
          "Conn 0-2",
          "Conn 2-4",
          "Conn 4+"
         ],
         "showlegend": false,
         "type": "pie",
         "values": [
          273,
          20,
          1,
          858,
          302,
          82
         ]
        },
        {
         "domain": {
          "x": [
           0.23245714285714295,
           0.28245714285714296
          ],
          "y": [
           0.568942857142857,
           0.618942857142857
          ]
         },
         "hole": 0.1,
         "labels": [
          "Arr 0-2",
          "Arr 2-4",
          "Arr 4+",
          "Conn 0-2",
          "Conn 2-4",
          "Conn 4+"
         ],
         "showlegend": false,
         "type": "pie",
         "values": [
          0,
          0,
          0,
          0,
          0,
          0
         ]
        },
        {
         "domain": {
          "x": [
           0.4701428571428571,
           0.5201428571428571
          ],
          "y": [
           0.2601428571428571,
           0.31014285714285716
          ]
         },
         "hole": 0.1,
         "labels": [
          "Arr 0-2",
          "Arr 2-4",
          "Arr 4+",
          "Conn 0-2",
          "Conn 2-4",
          "Conn 4+"
         ],
         "showlegend": false,
         "type": "pie",
         "values": [
          0,
          0,
          0,
          0,
          0,
          0
         ]
        },
        {
         "domain": {
          "x": [
           0.0098714285714286,
           0.2098714285714286
          ],
          "y": [
           0.6842571428571428,
           0.8842571428571427
          ]
         },
         "hole": 0.1,
         "labels": [
          "Arr 0-2",
          "Arr 2-4",
          "Arr 4+",
          "Conn 0-2",
          "Conn 2-4",
          "Conn 4+"
         ],
         "showlegend": false,
         "type": "pie",
         "values": [
          170,
          29,
          0,
          0,
          0,
          3
         ]
        },
        {
         "domain": {
          "x": [
           0.626042857142857,
           0.6760428571428571
          ],
          "y": [
           0.3647142857142857,
           0.41471428571428576
          ]
         },
         "hole": 0.1,
         "labels": [
          "Arr 0-2",
          "Arr 2-4",
          "Arr 4+",
          "Conn 0-2",
          "Conn 2-4",
          "Conn 4+"
         ],
         "showlegend": false,
         "type": "pie",
         "values": [
          0,
          1,
          0,
          0,
          5,
          0
         ]
        },
        {
         "domain": {
          "x": [
           0.6651714285714285,
           0.7151714285714286
          ],
          "y": [
           0.2748285714285714,
           0.32482857142857147
          ]
         },
         "hole": 0.1,
         "labels": [
          "Arr 0-2",
          "Arr 2-4",
          "Arr 4+",
          "Conn 0-2",
          "Conn 2-4",
          "Conn 4+"
         ],
         "showlegend": false,
         "type": "pie",
         "values": [
          0,
          0,
          0,
          0,
          0,
          0
         ]
        },
        {
         "domain": {
          "x": [
           0.7053285714285714,
           0.8983285714285715
          ],
          "y": [
           0.4971285714285715,
           0.6901285714285715
          ]
         },
         "hole": 0.1,
         "labels": [
          "Arr 0-2",
          "Arr 2-4",
          "Arr 4+",
          "Conn 0-2",
          "Conn 2-4",
          "Conn 4+"
         ],
         "showlegend": false,
         "type": "pie",
         "values": [
          0,
          26,
          117,
          0,
          3,
          47
         ]
        },
        {
         "domain": {
          "x": [
           0.6822714285714286,
           0.8822714285714286
          ],
          "y": [
           0.4677714285714286,
           0.6677714285714286
          ]
         },
         "hole": 0.1,
         "labels": [
          "Arr 0-2",
          "Arr 2-4",
          "Arr 4+",
          "Conn 0-2",
          "Conn 2-4",
          "Conn 4+"
         ],
         "showlegend": false,
         "type": "pie",
         "values": [
          0,
          162,
          12,
          95,
          49,
          325
         ]
        },
        {
         "domain": {
          "x": [
           0.6859571428571428,
           0.7359571428571429
          ],
          "y": [
           0.5604571428571429,
           0.6104571428571429
          ]
         },
         "hole": 0.1,
         "labels": [
          "Arr 0-2",
          "Arr 2-4",
          "Arr 4+",
          "Conn 0-2",
          "Conn 2-4",
          "Conn 4+"
         ],
         "showlegend": false,
         "type": "pie",
         "values": [
          0,
          0,
          0,
          0,
          0,
          3
         ]
        },
        {
         "domain": {
          "x": [
           0.08612857142857139,
           0.13612857142857138
          ],
          "y": [
           0.4813142857142856,
           0.5313142857142856
          ]
         },
         "hole": 0.1,
         "labels": [
          "Arr 0-2",
          "Arr 2-4",
          "Arr 4+",
          "Conn 0-2",
          "Conn 2-4",
          "Conn 4+"
         ],
         "showlegend": false,
         "type": "pie",
         "values": [
          0,
          0,
          0,
          0,
          0,
          0
         ]
        },
        {
         "domain": {
          "x": [
           0.6413857142857143,
           0.6913857142857144
          ],
          "y": [
           0.6096285714285715,
           0.6596285714285716
          ]
         },
         "hole": 0.1,
         "labels": [
          "Arr 0-2",
          "Arr 2-4",
          "Arr 4+",
          "Conn 0-2",
          "Conn 2-4",
          "Conn 4+"
         ],
         "showlegend": false,
         "type": "pie",
         "values": [
          0,
          0,
          1,
          0,
          0,
          0
         ]
        },
        {
         "domain": {
          "x": [
           0.5004714285714286,
           0.5504714285714286
          ],
          "y": [
           0.6858571428571429,
           0.735857142857143
          ]
         },
         "hole": 0.1,
         "labels": [
          "Arr 0-2",
          "Arr 2-4",
          "Arr 4+",
          "Conn 0-2",
          "Conn 2-4",
          "Conn 4+"
         ],
         "showlegend": false,
         "type": "pie",
         "values": [
          0,
          0,
          0,
          0,
          0,
          0
         ]
        },
        {
         "domain": {
          "x": [
           0.10101428571428582,
           0.2650142857142858
          ],
          "y": [
           0.2817999999999999,
           0.4457999999999999
          ]
         },
         "hole": 0.1,
         "labels": [
          "Arr 0-2",
          "Arr 2-4",
          "Arr 4+",
          "Conn 0-2",
          "Conn 2-4",
          "Conn 4+"
         ],
         "showlegend": false,
         "type": "pie",
         "values": [
          160,
          0,
          0,
          1,
          0,
          3
         ]
        },
        {
         "domain": {
          "x": [
           0.3369,
           0.3869
          ],
          "y": [
           0.5423714285714285,
           0.5923714285714285
          ]
         },
         "hole": 0.1,
         "labels": [
          "Arr 0-2",
          "Arr 2-4",
          "Arr 4+",
          "Conn 0-2",
          "Conn 2-4",
          "Conn 4+"
         ],
         "showlegend": false,
         "type": "pie",
         "values": [
          0,
          1,
          0,
          0,
          0,
          0
         ]
        },
        {
         "domain": {
          "x": [
           0.6870999999999999,
           0.7371
          ],
          "y": [
           0.14848571428571428,
           0.19848571428571427
          ]
         },
         "hole": 0.1,
         "labels": [
          "Arr 0-2",
          "Arr 2-4",
          "Arr 4+",
          "Conn 0-2",
          "Conn 2-4",
          "Conn 4+"
         ],
         "showlegend": false,
         "type": "pie",
         "values": [
          0,
          0,
          0,
          0,
          0,
          0
         ]
        },
        {
         "domain": {
          "x": [
           0.6704857142857142,
           0.7204857142857143
          ],
          "y": [
           0.2158285714285714,
           0.2658285714285714
          ]
         },
         "hole": 0.1,
         "labels": [
          "Arr 0-2",
          "Arr 2-4",
          "Arr 4+",
          "Conn 0-2",
          "Conn 2-4",
          "Conn 4+"
         ],
         "showlegend": false,
         "type": "pie",
         "values": [
          0,
          0,
          0,
          0,
          0,
          0
         ]
        },
        {
         "domain": {
          "x": [
           0.6531,
           0.7031000000000001
          ],
          "y": [
           0.2028571428571429,
           0.2528571428571429
          ]
         },
         "hole": 0.1,
         "labels": [
          "Arr 0-2",
          "Arr 2-4",
          "Arr 4+",
          "Conn 0-2",
          "Conn 2-4",
          "Conn 4+"
         ],
         "showlegend": false,
         "type": "pie",
         "values": [
          0,
          0,
          0,
          0,
          3,
          0
         ]
        },
        {
         "domain": {
          "x": [
           0.43685714285714283,
           0.4868571428571429
          ],
          "y": [
           0.2662571428571428,
           0.31625714285714285
          ]
         },
         "hole": 0.1,
         "labels": [
          "Arr 0-2",
          "Arr 2-4",
          "Arr 4+",
          "Conn 0-2",
          "Conn 2-4",
          "Conn 4+"
         ],
         "showlegend": false,
         "type": "pie",
         "values": [
          0,
          0,
          0,
          0,
          0,
          0
         ]
        },
        {
         "domain": {
          "x": [
           0.5412857142857143,
           0.5912857142857143
          ],
          "y": [
           0.5106571428571428,
           0.5606571428571429
          ]
         },
         "hole": 0.1,
         "labels": [
          "Arr 0-2",
          "Arr 2-4",
          "Arr 4+",
          "Conn 0-2",
          "Conn 2-4",
          "Conn 4+"
         ],
         "showlegend": false,
         "type": "pie",
         "values": [
          0,
          37,
          7,
          0,
          0,
          2
         ]
        },
        {
         "domain": {
          "x": [
           0.7570857142857144,
           0.8380857142857143
          ],
          "y": [
           0.5507000000000001,
           0.6317
          ]
         },
         "hole": 0.1,
         "labels": [
          "Arr 0-2",
          "Arr 2-4",
          "Arr 4+",
          "Conn 0-2",
          "Conn 2-4",
          "Conn 4+"
         ],
         "showlegend": false,
         "type": "pie",
         "values": [
          0,
          0,
          78,
          0,
          0,
          3
         ]
        },
        {
         "domain": {
          "x": [
           0.5938857142857144,
           0.6438857142857144
          ],
          "y": [
           0.43568571428571434,
           0.4856857142857144
          ]
         },
         "hole": 0.1,
         "labels": [
          "Arr 0-2",
          "Arr 2-4",
          "Arr 4+",
          "Conn 0-2",
          "Conn 2-4",
          "Conn 4+"
         ],
         "showlegend": false,
         "type": "pie",
         "values": [
          0,
          0,
          0,
          13,
          0,
          0
         ]
        },
        {
         "domain": {
          "x": [
           0.1483142857142858,
           0.19831428571428578
          ],
          "y": [
           0.3657428571428572,
           0.41574285714285725
          ]
         },
         "hole": 0.1,
         "labels": [
          "Arr 0-2",
          "Arr 2-4",
          "Arr 4+",
          "Conn 0-2",
          "Conn 2-4",
          "Conn 4+"
         ],
         "showlegend": false,
         "type": "pie",
         "values": [
          0,
          0,
          0,
          0,
          0,
          0
         ]
        },
        {
         "domain": {
          "x": [
           0.47908571428571434,
           0.5290857142857144
          ],
          "y": [
           0.526342857142857,
           0.576342857142857
          ]
         },
         "hole": 0.1,
         "labels": [
          "Arr 0-2",
          "Arr 2-4",
          "Arr 4+",
          "Conn 0-2",
          "Conn 2-4",
          "Conn 4+"
         ],
         "showlegend": false,
         "type": "pie",
         "values": [
          0,
          0,
          0,
          0,
          0,
          0
         ]
        }
       ],
       "layout": {
        "geo": {
         "center": {
          "lat": 39,
          "lon": -98
         },
         "countrycolor": "rgb(255, 255, 255)",
         "landcolor": "rgb(217, 217, 217)",
         "lataxis": {
          "range": [
           20,
           55
          ]
         },
         "lonaxis": {
          "range": [
           -130,
           -60
          ]
         },
         "projection": {
          "type": "albers usa"
         },
         "scope": "usa",
         "showland": true,
         "subunitcolor": "rgb(255, 255, 255)"
        },
        "showlegend": false,
        "template": {
         "data": {
          "bar": [
           {
            "error_x": {
             "color": "#2a3f5f"
            },
            "error_y": {
             "color": "#2a3f5f"
            },
            "marker": {
             "line": {
              "color": "#E5ECF6",
              "width": 0.5
             },
             "pattern": {
              "fillmode": "overlay",
              "size": 10,
              "solidity": 0.2
             }
            },
            "type": "bar"
           }
          ],
          "barpolar": [
           {
            "marker": {
             "line": {
              "color": "#E5ECF6",
              "width": 0.5
             },
             "pattern": {
              "fillmode": "overlay",
              "size": 10,
              "solidity": 0.2
             }
            },
            "type": "barpolar"
           }
          ],
          "carpet": [
           {
            "aaxis": {
             "endlinecolor": "#2a3f5f",
             "gridcolor": "white",
             "linecolor": "white",
             "minorgridcolor": "white",
             "startlinecolor": "#2a3f5f"
            },
            "baxis": {
             "endlinecolor": "#2a3f5f",
             "gridcolor": "white",
             "linecolor": "white",
             "minorgridcolor": "white",
             "startlinecolor": "#2a3f5f"
            },
            "type": "carpet"
           }
          ],
          "choropleth": [
           {
            "colorbar": {
             "outlinewidth": 0,
             "ticks": ""
            },
            "type": "choropleth"
           }
          ],
          "contour": [
           {
            "colorbar": {
             "outlinewidth": 0,
             "ticks": ""
            },
            "colorscale": [
             [
              0,
              "#0d0887"
             ],
             [
              0.1111111111111111,
              "#46039f"
             ],
             [
              0.2222222222222222,
              "#7201a8"
             ],
             [
              0.3333333333333333,
              "#9c179e"
             ],
             [
              0.4444444444444444,
              "#bd3786"
             ],
             [
              0.5555555555555556,
              "#d8576b"
             ],
             [
              0.6666666666666666,
              "#ed7953"
             ],
             [
              0.7777777777777778,
              "#fb9f3a"
             ],
             [
              0.8888888888888888,
              "#fdca26"
             ],
             [
              1,
              "#f0f921"
             ]
            ],
            "type": "contour"
           }
          ],
          "contourcarpet": [
           {
            "colorbar": {
             "outlinewidth": 0,
             "ticks": ""
            },
            "type": "contourcarpet"
           }
          ],
          "heatmap": [
           {
            "colorbar": {
             "outlinewidth": 0,
             "ticks": ""
            },
            "colorscale": [
             [
              0,
              "#0d0887"
             ],
             [
              0.1111111111111111,
              "#46039f"
             ],
             [
              0.2222222222222222,
              "#7201a8"
             ],
             [
              0.3333333333333333,
              "#9c179e"
             ],
             [
              0.4444444444444444,
              "#bd3786"
             ],
             [
              0.5555555555555556,
              "#d8576b"
             ],
             [
              0.6666666666666666,
              "#ed7953"
             ],
             [
              0.7777777777777778,
              "#fb9f3a"
             ],
             [
              0.8888888888888888,
              "#fdca26"
             ],
             [
              1,
              "#f0f921"
             ]
            ],
            "type": "heatmap"
           }
          ],
          "histogram": [
           {
            "marker": {
             "pattern": {
              "fillmode": "overlay",
              "size": 10,
              "solidity": 0.2
             }
            },
            "type": "histogram"
           }
          ],
          "histogram2d": [
           {
            "colorbar": {
             "outlinewidth": 0,
             "ticks": ""
            },
            "colorscale": [
             [
              0,
              "#0d0887"
             ],
             [
              0.1111111111111111,
              "#46039f"
             ],
             [
              0.2222222222222222,
              "#7201a8"
             ],
             [
              0.3333333333333333,
              "#9c179e"
             ],
             [
              0.4444444444444444,
              "#bd3786"
             ],
             [
              0.5555555555555556,
              "#d8576b"
             ],
             [
              0.6666666666666666,
              "#ed7953"
             ],
             [
              0.7777777777777778,
              "#fb9f3a"
             ],
             [
              0.8888888888888888,
              "#fdca26"
             ],
             [
              1,
              "#f0f921"
             ]
            ],
            "type": "histogram2d"
           }
          ],
          "histogram2dcontour": [
           {
            "colorbar": {
             "outlinewidth": 0,
             "ticks": ""
            },
            "colorscale": [
             [
              0,
              "#0d0887"
             ],
             [
              0.1111111111111111,
              "#46039f"
             ],
             [
              0.2222222222222222,
              "#7201a8"
             ],
             [
              0.3333333333333333,
              "#9c179e"
             ],
             [
              0.4444444444444444,
              "#bd3786"
             ],
             [
              0.5555555555555556,
              "#d8576b"
             ],
             [
              0.6666666666666666,
              "#ed7953"
             ],
             [
              0.7777777777777778,
              "#fb9f3a"
             ],
             [
              0.8888888888888888,
              "#fdca26"
             ],
             [
              1,
              "#f0f921"
             ]
            ],
            "type": "histogram2dcontour"
           }
          ],
          "mesh3d": [
           {
            "colorbar": {
             "outlinewidth": 0,
             "ticks": ""
            },
            "type": "mesh3d"
           }
          ],
          "parcoords": [
           {
            "line": {
             "colorbar": {
              "outlinewidth": 0,
              "ticks": ""
             }
            },
            "type": "parcoords"
           }
          ],
          "pie": [
           {
            "automargin": true,
            "type": "pie"
           }
          ],
          "scatter": [
           {
            "fillpattern": {
             "fillmode": "overlay",
             "size": 10,
             "solidity": 0.2
            },
            "type": "scatter"
           }
          ],
          "scatter3d": [
           {
            "line": {
             "colorbar": {
              "outlinewidth": 0,
              "ticks": ""
             }
            },
            "marker": {
             "colorbar": {
              "outlinewidth": 0,
              "ticks": ""
             }
            },
            "type": "scatter3d"
           }
          ],
          "scattercarpet": [
           {
            "marker": {
             "colorbar": {
              "outlinewidth": 0,
              "ticks": ""
             }
            },
            "type": "scattercarpet"
           }
          ],
          "scattergeo": [
           {
            "marker": {
             "colorbar": {
              "outlinewidth": 0,
              "ticks": ""
             }
            },
            "type": "scattergeo"
           }
          ],
          "scattergl": [
           {
            "marker": {
             "colorbar": {
              "outlinewidth": 0,
              "ticks": ""
             }
            },
            "type": "scattergl"
           }
          ],
          "scattermap": [
           {
            "marker": {
             "colorbar": {
              "outlinewidth": 0,
              "ticks": ""
             }
            },
            "type": "scattermap"
           }
          ],
          "scattermapbox": [
           {
            "marker": {
             "colorbar": {
              "outlinewidth": 0,
              "ticks": ""
             }
            },
            "type": "scattermapbox"
           }
          ],
          "scatterpolar": [
           {
            "marker": {
             "colorbar": {
              "outlinewidth": 0,
              "ticks": ""
             }
            },
            "type": "scatterpolar"
           }
          ],
          "scatterpolargl": [
           {
            "marker": {
             "colorbar": {
              "outlinewidth": 0,
              "ticks": ""
             }
            },
            "type": "scatterpolargl"
           }
          ],
          "scatterternary": [
           {
            "marker": {
             "colorbar": {
              "outlinewidth": 0,
              "ticks": ""
             }
            },
            "type": "scatterternary"
           }
          ],
          "surface": [
           {
            "colorbar": {
             "outlinewidth": 0,
             "ticks": ""
            },
            "colorscale": [
             [
              0,
              "#0d0887"
             ],
             [
              0.1111111111111111,
              "#46039f"
             ],
             [
              0.2222222222222222,
              "#7201a8"
             ],
             [
              0.3333333333333333,
              "#9c179e"
             ],
             [
              0.4444444444444444,
              "#bd3786"
             ],
             [
              0.5555555555555556,
              "#d8576b"
             ],
             [
              0.6666666666666666,
              "#ed7953"
             ],
             [
              0.7777777777777778,
              "#fb9f3a"
             ],
             [
              0.8888888888888888,
              "#fdca26"
             ],
             [
              1,
              "#f0f921"
             ]
            ],
            "type": "surface"
           }
          ],
          "table": [
           {
            "cells": {
             "fill": {
              "color": "#EBF0F8"
             },
             "line": {
              "color": "white"
             }
            },
            "header": {
             "fill": {
              "color": "#C8D4E3"
             },
             "line": {
              "color": "white"
             }
            },
            "type": "table"
           }
          ]
         },
         "layout": {
          "annotationdefaults": {
           "arrowcolor": "#2a3f5f",
           "arrowhead": 0,
           "arrowwidth": 1
          },
          "autotypenumbers": "strict",
          "coloraxis": {
           "colorbar": {
            "outlinewidth": 0,
            "ticks": ""
           }
          },
          "colorscale": {
           "diverging": [
            [
             0,
             "#8e0152"
            ],
            [
             0.1,
             "#c51b7d"
            ],
            [
             0.2,
             "#de77ae"
            ],
            [
             0.3,
             "#f1b6da"
            ],
            [
             0.4,
             "#fde0ef"
            ],
            [
             0.5,
             "#f7f7f7"
            ],
            [
             0.6,
             "#e6f5d0"
            ],
            [
             0.7,
             "#b8e186"
            ],
            [
             0.8,
             "#7fbc41"
            ],
            [
             0.9,
             "#4d9221"
            ],
            [
             1,
             "#276419"
            ]
           ],
           "sequential": [
            [
             0,
             "#0d0887"
            ],
            [
             0.1111111111111111,
             "#46039f"
            ],
            [
             0.2222222222222222,
             "#7201a8"
            ],
            [
             0.3333333333333333,
             "#9c179e"
            ],
            [
             0.4444444444444444,
             "#bd3786"
            ],
            [
             0.5555555555555556,
             "#d8576b"
            ],
            [
             0.6666666666666666,
             "#ed7953"
            ],
            [
             0.7777777777777778,
             "#fb9f3a"
            ],
            [
             0.8888888888888888,
             "#fdca26"
            ],
            [
             1,
             "#f0f921"
            ]
           ],
           "sequentialminus": [
            [
             0,
             "#0d0887"
            ],
            [
             0.1111111111111111,
             "#46039f"
            ],
            [
             0.2222222222222222,
             "#7201a8"
            ],
            [
             0.3333333333333333,
             "#9c179e"
            ],
            [
             0.4444444444444444,
             "#bd3786"
            ],
            [
             0.5555555555555556,
             "#d8576b"
            ],
            [
             0.6666666666666666,
             "#ed7953"
            ],
            [
             0.7777777777777778,
             "#fb9f3a"
            ],
            [
             0.8888888888888888,
             "#fdca26"
            ],
            [
             1,
             "#f0f921"
            ]
           ]
          },
          "colorway": [
           "#636efa",
           "#EF553B",
           "#00cc96",
           "#ab63fa",
           "#FFA15A",
           "#19d3f3",
           "#FF6692",
           "#B6E880",
           "#FF97FF",
           "#FECB52"
          ],
          "font": {
           "color": "#2a3f5f"
          },
          "geo": {
           "bgcolor": "white",
           "lakecolor": "white",
           "landcolor": "#E5ECF6",
           "showlakes": true,
           "showland": true,
           "subunitcolor": "white"
          },
          "hoverlabel": {
           "align": "left"
          },
          "hovermode": "closest",
          "mapbox": {
           "style": "light"
          },
          "paper_bgcolor": "white",
          "plot_bgcolor": "#E5ECF6",
          "polar": {
           "angularaxis": {
            "gridcolor": "white",
            "linecolor": "white",
            "ticks": ""
           },
           "bgcolor": "#E5ECF6",
           "radialaxis": {
            "gridcolor": "white",
            "linecolor": "white",
            "ticks": ""
           }
          },
          "scene": {
           "xaxis": {
            "backgroundcolor": "#E5ECF6",
            "gridcolor": "white",
            "gridwidth": 2,
            "linecolor": "white",
            "showbackground": true,
            "ticks": "",
            "zerolinecolor": "white"
           },
           "yaxis": {
            "backgroundcolor": "#E5ECF6",
            "gridcolor": "white",
            "gridwidth": 2,
            "linecolor": "white",
            "showbackground": true,
            "ticks": "",
            "zerolinecolor": "white"
           },
           "zaxis": {
            "backgroundcolor": "#E5ECF6",
            "gridcolor": "white",
            "gridwidth": 2,
            "linecolor": "white",
            "showbackground": true,
            "ticks": "",
            "zerolinecolor": "white"
           }
          },
          "shapedefaults": {
           "line": {
            "color": "#2a3f5f"
           }
          },
          "ternary": {
           "aaxis": {
            "gridcolor": "white",
            "linecolor": "white",
            "ticks": ""
           },
           "baxis": {
            "gridcolor": "white",
            "linecolor": "white",
            "ticks": ""
           },
           "bgcolor": "#E5ECF6",
           "caxis": {
            "gridcolor": "white",
            "linecolor": "white",
            "ticks": ""
           }
          },
          "title": {
           "x": 0.05
          },
          "xaxis": {
           "automargin": true,
           "gridcolor": "white",
           "linecolor": "white",
           "ticks": "",
           "title": {
            "standoff": 15
           },
           "zerolinecolor": "white",
           "zerolinewidth": 2
          },
          "yaxis": {
           "automargin": true,
           "gridcolor": "white",
           "linecolor": "white",
           "ticks": "",
           "title": {
            "standoff": 15
           },
           "zerolinecolor": "white",
           "zerolinewidth": 2
          }
         }
        },
        "title": {
         "text": "American Airlines Hub Passenger Flow"
        }
       }
      }
     },
     "metadata": {},
     "output_type": "display_data"
    }
   ],
   "source": [
    "make_frame(dayData[140], iataDct).show()"
   ]
  },
  {
   "cell_type": "code",
   "execution_count": 27,
   "id": "95441f08",
   "metadata": {},
   "outputs": [
    {
     "data": {
      "application/vnd.plotly.v1+json": {
       "config": {
        "plotlyServerURL": "https://plot.ly"
       },
       "data": [
        {
         "domain": {
          "x": [
           0.7201500000000001,
           0.7701500000000001
          ],
          "y": [
           0.006719999999999969,
           0.05671999999999997
          ]
         },
         "hole": 0.1,
         "labels": [
          "Arr 0-2",
          "Arr 2-4",
          "Arr 4+",
          "Conn 0-2",
          "Conn 2-4",
          "Conn 4+"
         ],
         "showlegend": false,
         "type": "pie",
         "values": [
          0,
          33,
          12,
          0,
          0,
          0
         ]
        }
       ],
       "layout": {
        "geo": {
         "landcolor": "LightGray",
         "lataxis": {
          "showgrid": true
         },
         "lonaxis": {
          "showgrid": true
         },
         "projection": {
          "type": "albers usa"
         },
         "scope": "usa",
         "showland": true
        },
        "margin": {
         "b": 0,
         "l": 0,
         "r": 0,
         "t": 0
        },
        "template": {
         "data": {
          "bar": [
           {
            "error_x": {
             "color": "#2a3f5f"
            },
            "error_y": {
             "color": "#2a3f5f"
            },
            "marker": {
             "line": {
              "color": "#E5ECF6",
              "width": 0.5
             },
             "pattern": {
              "fillmode": "overlay",
              "size": 10,
              "solidity": 0.2
             }
            },
            "type": "bar"
           }
          ],
          "barpolar": [
           {
            "marker": {
             "line": {
              "color": "#E5ECF6",
              "width": 0.5
             },
             "pattern": {
              "fillmode": "overlay",
              "size": 10,
              "solidity": 0.2
             }
            },
            "type": "barpolar"
           }
          ],
          "carpet": [
           {
            "aaxis": {
             "endlinecolor": "#2a3f5f",
             "gridcolor": "white",
             "linecolor": "white",
             "minorgridcolor": "white",
             "startlinecolor": "#2a3f5f"
            },
            "baxis": {
             "endlinecolor": "#2a3f5f",
             "gridcolor": "white",
             "linecolor": "white",
             "minorgridcolor": "white",
             "startlinecolor": "#2a3f5f"
            },
            "type": "carpet"
           }
          ],
          "choropleth": [
           {
            "colorbar": {
             "outlinewidth": 0,
             "ticks": ""
            },
            "type": "choropleth"
           }
          ],
          "contour": [
           {
            "colorbar": {
             "outlinewidth": 0,
             "ticks": ""
            },
            "colorscale": [
             [
              0,
              "#0d0887"
             ],
             [
              0.1111111111111111,
              "#46039f"
             ],
             [
              0.2222222222222222,
              "#7201a8"
             ],
             [
              0.3333333333333333,
              "#9c179e"
             ],
             [
              0.4444444444444444,
              "#bd3786"
             ],
             [
              0.5555555555555556,
              "#d8576b"
             ],
             [
              0.6666666666666666,
              "#ed7953"
             ],
             [
              0.7777777777777778,
              "#fb9f3a"
             ],
             [
              0.8888888888888888,
              "#fdca26"
             ],
             [
              1,
              "#f0f921"
             ]
            ],
            "type": "contour"
           }
          ],
          "contourcarpet": [
           {
            "colorbar": {
             "outlinewidth": 0,
             "ticks": ""
            },
            "type": "contourcarpet"
           }
          ],
          "heatmap": [
           {
            "colorbar": {
             "outlinewidth": 0,
             "ticks": ""
            },
            "colorscale": [
             [
              0,
              "#0d0887"
             ],
             [
              0.1111111111111111,
              "#46039f"
             ],
             [
              0.2222222222222222,
              "#7201a8"
             ],
             [
              0.3333333333333333,
              "#9c179e"
             ],
             [
              0.4444444444444444,
              "#bd3786"
             ],
             [
              0.5555555555555556,
              "#d8576b"
             ],
             [
              0.6666666666666666,
              "#ed7953"
             ],
             [
              0.7777777777777778,
              "#fb9f3a"
             ],
             [
              0.8888888888888888,
              "#fdca26"
             ],
             [
              1,
              "#f0f921"
             ]
            ],
            "type": "heatmap"
           }
          ],
          "histogram": [
           {
            "marker": {
             "pattern": {
              "fillmode": "overlay",
              "size": 10,
              "solidity": 0.2
             }
            },
            "type": "histogram"
           }
          ],
          "histogram2d": [
           {
            "colorbar": {
             "outlinewidth": 0,
             "ticks": ""
            },
            "colorscale": [
             [
              0,
              "#0d0887"
             ],
             [
              0.1111111111111111,
              "#46039f"
             ],
             [
              0.2222222222222222,
              "#7201a8"
             ],
             [
              0.3333333333333333,
              "#9c179e"
             ],
             [
              0.4444444444444444,
              "#bd3786"
             ],
             [
              0.5555555555555556,
              "#d8576b"
             ],
             [
              0.6666666666666666,
              "#ed7953"
             ],
             [
              0.7777777777777778,
              "#fb9f3a"
             ],
             [
              0.8888888888888888,
              "#fdca26"
             ],
             [
              1,
              "#f0f921"
             ]
            ],
            "type": "histogram2d"
           }
          ],
          "histogram2dcontour": [
           {
            "colorbar": {
             "outlinewidth": 0,
             "ticks": ""
            },
            "colorscale": [
             [
              0,
              "#0d0887"
             ],
             [
              0.1111111111111111,
              "#46039f"
             ],
             [
              0.2222222222222222,
              "#7201a8"
             ],
             [
              0.3333333333333333,
              "#9c179e"
             ],
             [
              0.4444444444444444,
              "#bd3786"
             ],
             [
              0.5555555555555556,
              "#d8576b"
             ],
             [
              0.6666666666666666,
              "#ed7953"
             ],
             [
              0.7777777777777778,
              "#fb9f3a"
             ],
             [
              0.8888888888888888,
              "#fdca26"
             ],
             [
              1,
              "#f0f921"
             ]
            ],
            "type": "histogram2dcontour"
           }
          ],
          "mesh3d": [
           {
            "colorbar": {
             "outlinewidth": 0,
             "ticks": ""
            },
            "type": "mesh3d"
           }
          ],
          "parcoords": [
           {
            "line": {
             "colorbar": {
              "outlinewidth": 0,
              "ticks": ""
             }
            },
            "type": "parcoords"
           }
          ],
          "pie": [
           {
            "automargin": true,
            "type": "pie"
           }
          ],
          "scatter": [
           {
            "fillpattern": {
             "fillmode": "overlay",
             "size": 10,
             "solidity": 0.2
            },
            "type": "scatter"
           }
          ],
          "scatter3d": [
           {
            "line": {
             "colorbar": {
              "outlinewidth": 0,
              "ticks": ""
             }
            },
            "marker": {
             "colorbar": {
              "outlinewidth": 0,
              "ticks": ""
             }
            },
            "type": "scatter3d"
           }
          ],
          "scattercarpet": [
           {
            "marker": {
             "colorbar": {
              "outlinewidth": 0,
              "ticks": ""
             }
            },
            "type": "scattercarpet"
           }
          ],
          "scattergeo": [
           {
            "marker": {
             "colorbar": {
              "outlinewidth": 0,
              "ticks": ""
             }
            },
            "type": "scattergeo"
           }
          ],
          "scattergl": [
           {
            "marker": {
             "colorbar": {
              "outlinewidth": 0,
              "ticks": ""
             }
            },
            "type": "scattergl"
           }
          ],
          "scattermap": [
           {
            "marker": {
             "colorbar": {
              "outlinewidth": 0,
              "ticks": ""
             }
            },
            "type": "scattermap"
           }
          ],
          "scattermapbox": [
           {
            "marker": {
             "colorbar": {
              "outlinewidth": 0,
              "ticks": ""
             }
            },
            "type": "scattermapbox"
           }
          ],
          "scatterpolar": [
           {
            "marker": {
             "colorbar": {
              "outlinewidth": 0,
              "ticks": ""
             }
            },
            "type": "scatterpolar"
           }
          ],
          "scatterpolargl": [
           {
            "marker": {
             "colorbar": {
              "outlinewidth": 0,
              "ticks": ""
             }
            },
            "type": "scatterpolargl"
           }
          ],
          "scatterternary": [
           {
            "marker": {
             "colorbar": {
              "outlinewidth": 0,
              "ticks": ""
             }
            },
            "type": "scatterternary"
           }
          ],
          "surface": [
           {
            "colorbar": {
             "outlinewidth": 0,
             "ticks": ""
            },
            "colorscale": [
             [
              0,
              "#0d0887"
             ],
             [
              0.1111111111111111,
              "#46039f"
             ],
             [
              0.2222222222222222,
              "#7201a8"
             ],
             [
              0.3333333333333333,
              "#9c179e"
             ],
             [
              0.4444444444444444,
              "#bd3786"
             ],
             [
              0.5555555555555556,
              "#d8576b"
             ],
             [
              0.6666666666666666,
              "#ed7953"
             ],
             [
              0.7777777777777778,
              "#fb9f3a"
             ],
             [
              0.8888888888888888,
              "#fdca26"
             ],
             [
              1,
              "#f0f921"
             ]
            ],
            "type": "surface"
           }
          ],
          "table": [
           {
            "cells": {
             "fill": {
              "color": "#EBF0F8"
             },
             "line": {
              "color": "white"
             }
            },
            "header": {
             "fill": {
              "color": "#C8D4E3"
             },
             "line": {
              "color": "white"
             }
            },
            "type": "table"
           }
          ]
         },
         "layout": {
          "annotationdefaults": {
           "arrowcolor": "#2a3f5f",
           "arrowhead": 0,
           "arrowwidth": 1
          },
          "autotypenumbers": "strict",
          "coloraxis": {
           "colorbar": {
            "outlinewidth": 0,
            "ticks": ""
           }
          },
          "colorscale": {
           "diverging": [
            [
             0,
             "#8e0152"
            ],
            [
             0.1,
             "#c51b7d"
            ],
            [
             0.2,
             "#de77ae"
            ],
            [
             0.3,
             "#f1b6da"
            ],
            [
             0.4,
             "#fde0ef"
            ],
            [
             0.5,
             "#f7f7f7"
            ],
            [
             0.6,
             "#e6f5d0"
            ],
            [
             0.7,
             "#b8e186"
            ],
            [
             0.8,
             "#7fbc41"
            ],
            [
             0.9,
             "#4d9221"
            ],
            [
             1,
             "#276419"
            ]
           ],
           "sequential": [
            [
             0,
             "#0d0887"
            ],
            [
             0.1111111111111111,
             "#46039f"
            ],
            [
             0.2222222222222222,
             "#7201a8"
            ],
            [
             0.3333333333333333,
             "#9c179e"
            ],
            [
             0.4444444444444444,
             "#bd3786"
            ],
            [
             0.5555555555555556,
             "#d8576b"
            ],
            [
             0.6666666666666666,
             "#ed7953"
            ],
            [
             0.7777777777777778,
             "#fb9f3a"
            ],
            [
             0.8888888888888888,
             "#fdca26"
            ],
            [
             1,
             "#f0f921"
            ]
           ],
           "sequentialminus": [
            [
             0,
             "#0d0887"
            ],
            [
             0.1111111111111111,
             "#46039f"
            ],
            [
             0.2222222222222222,
             "#7201a8"
            ],
            [
             0.3333333333333333,
             "#9c179e"
            ],
            [
             0.4444444444444444,
             "#bd3786"
            ],
            [
             0.5555555555555556,
             "#d8576b"
            ],
            [
             0.6666666666666666,
             "#ed7953"
            ],
            [
             0.7777777777777778,
             "#fb9f3a"
            ],
            [
             0.8888888888888888,
             "#fdca26"
            ],
            [
             1,
             "#f0f921"
            ]
           ]
          },
          "colorway": [
           "#636efa",
           "#EF553B",
           "#00cc96",
           "#ab63fa",
           "#FFA15A",
           "#19d3f3",
           "#FF6692",
           "#B6E880",
           "#FF97FF",
           "#FECB52"
          ],
          "font": {
           "color": "#2a3f5f"
          },
          "geo": {
           "bgcolor": "white",
           "lakecolor": "white",
           "landcolor": "#E5ECF6",
           "showlakes": true,
           "showland": true,
           "subunitcolor": "white"
          },
          "hoverlabel": {
           "align": "left"
          },
          "hovermode": "closest",
          "mapbox": {
           "style": "light"
          },
          "paper_bgcolor": "white",
          "plot_bgcolor": "#E5ECF6",
          "polar": {
           "angularaxis": {
            "gridcolor": "white",
            "linecolor": "white",
            "ticks": ""
           },
           "bgcolor": "#E5ECF6",
           "radialaxis": {
            "gridcolor": "white",
            "linecolor": "white",
            "ticks": ""
           }
          },
          "scene": {
           "xaxis": {
            "backgroundcolor": "#E5ECF6",
            "gridcolor": "white",
            "gridwidth": 2,
            "linecolor": "white",
            "showbackground": true,
            "ticks": "",
            "zerolinecolor": "white"
           },
           "yaxis": {
            "backgroundcolor": "#E5ECF6",
            "gridcolor": "white",
            "gridwidth": 2,
            "linecolor": "white",
            "showbackground": true,
            "ticks": "",
            "zerolinecolor": "white"
           },
           "zaxis": {
            "backgroundcolor": "#E5ECF6",
            "gridcolor": "white",
            "gridwidth": 2,
            "linecolor": "white",
            "showbackground": true,
            "ticks": "",
            "zerolinecolor": "white"
           }
          },
          "shapedefaults": {
           "line": {
            "color": "#2a3f5f"
           }
          },
          "ternary": {
           "aaxis": {
            "gridcolor": "white",
            "linecolor": "white",
            "ticks": ""
           },
           "baxis": {
            "gridcolor": "white",
            "linecolor": "white",
            "ticks": ""
           },
           "bgcolor": "#E5ECF6",
           "caxis": {
            "gridcolor": "white",
            "linecolor": "white",
            "ticks": ""
           }
          },
          "title": {
           "x": 0.05
          },
          "xaxis": {
           "automargin": true,
           "gridcolor": "white",
           "linecolor": "white",
           "ticks": "",
           "title": {
            "standoff": 15
           },
           "zerolinecolor": "white",
           "zerolinewidth": 2
          },
          "yaxis": {
           "automargin": true,
           "gridcolor": "white",
           "linecolor": "white",
           "ticks": "",
           "title": {
            "standoff": 15
           },
           "zerolinecolor": "white",
           "zerolinewidth": 2
          }
         }
        }
       }
      }
     },
     "metadata": {},
     "output_type": "display_data"
    }
   ],
   "source": [
    "fig = make_frame(dayData[0], iataDct)\n",
    "fig.show()"
   ]
  },
  {
   "cell_type": "code",
   "execution_count": 23,
   "id": "01e311f4",
   "metadata": {},
   "outputs": [
    {
     "data": {
      "text/plain": [
       "{'MIA': [0, 33, 12, 0, 0, 0],\n",
       " 'SFO': [0, 0, 0, 0, 0, 0],\n",
       " 'DFW': [165, 29, 52, 0, 0, 0],\n",
       " 'CLT': [0, 44, 30, 0, 0, 0],\n",
       " 'ORD': [9, 7, 1, 0, 0, 0],\n",
       " 'JFK': [0, 0, 7, 0, 0, 0],\n",
       " 'LAS': [0, 0, 0, 0, 0, 0],\n",
       " 'LAX': [16, 0, 9, 0, 0, 0],\n",
       " 'BOS': [0, 0, 11, 0, 0, 0],\n",
       " 'BWI': [0, 0, 0, 0, 0, 0],\n",
       " 'DCA': [0, 2, 2, 0, 0, 0],\n",
       " 'PHX': [5, 2, 1, 0, 0, 0],\n",
       " 'SLC': [0, 0, 0, 0, 0, 0],\n",
       " 'HNL': [0, 0, 0, 0, 0, 0],\n",
       " 'IAH': [0, 0, 0, 0, 0, 0],\n",
       " 'SEA': [0, 0, 13, 0, 0, 0],\n",
       " 'ATL': [0, 0, 0, 0, 0, 0],\n",
       " 'JAX': [0, 0, 0, 0, 0, 0],\n",
       " 'LGA': [0, 3, 15, 0, 0, 0],\n",
       " 'PHL': [0, 97, 7, 0, 0, 0],\n",
       " 'PIT': [0, 0, 0, 0, 0, 0],\n",
       " 'OAK': [0, 0, 0, 0, 0, 0],\n",
       " 'DTW': [0, 0, 8, 0, 0, 0],\n",
       " 'MSP': [0, 0, 0, 0, 0, 0],\n",
       " 'SAN': [0, 0, 6, 0, 0, 0],\n",
       " 'DEN': [0, 0, 0, 0, 0, 0],\n",
       " 'FLL': [0, 0, 0, 0, 0, 0],\n",
       " 'MCO': [0, 0, 0, 0, 0, 0],\n",
       " 'TPA': [0, 0, 0, 0, 0, 0],\n",
       " 'AUS': [0, 0, 0, 0, 0, 0],\n",
       " 'STL': [0, 0, 2, 0, 0, 0],\n",
       " 'EWR': [0, 0, 0, 0, 0, 0],\n",
       " 'BNA': [0, 0, 0, 0, 0, 0],\n",
       " 'SNA': [0, 0, 0, 0, 0, 0],\n",
       " 'MCI': [0, 0, 0, 0, 0, 0]}"
      ]
     },
     "execution_count": 23,
     "metadata": {},
     "output_type": "execute_result"
    }
   ],
   "source": [
    "dayData[0]"
   ]
  },
  {
   "cell_type": "code",
   "execution_count": null,
   "id": "de6434ad",
   "metadata": {},
   "outputs": [],
   "source": []
  }
 ],
 "metadata": {
  "kernelspec": {
   "display_name": ".default",
   "language": "python",
   "name": "python3"
  },
  "language_info": {
   "codemirror_mode": {
    "name": "ipython",
    "version": 3
   },
   "file_extension": ".py",
   "mimetype": "text/x-python",
   "name": "python",
   "nbconvert_exporter": "python",
   "pygments_lexer": "ipython3",
   "version": "3.9.7"
  }
 },
 "nbformat": 4,
 "nbformat_minor": 5
}
