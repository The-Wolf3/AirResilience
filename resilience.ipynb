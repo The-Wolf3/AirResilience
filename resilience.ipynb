{
 "cells": [
  {
   "cell_type": "code",
   "execution_count": 2,
   "metadata": {},
   "outputs": [],
   "source": [
    "import cvxpy as cp\n",
    "import numpy as np"
   ]
  },
  {
   "cell_type": "code",
   "execution_count": 19,
   "metadata": {},
   "outputs": [],
   "source": [
    "T = 5\n",
    "N = 5\n",
    "\n",
    "Pod = cp.Variable((N,N))\n",
    "A = cp.Variable((T, N))\n",
    "nij = [cp.Variable((N,N)) for _ in range(T)]\n",
    "fij = [[[cp.Variable((N,N)) for _ in range(T)] for _ in range(N)] for _ in range(N)]"
   ]
  },
  {
   "cell_type": "code",
   "execution_count": 20,
   "metadata": {},
   "outputs": [],
   "source": [
    "capacity = 100\n",
    "D = np.array([[0, 2, 2, 0,0],[2,0,2,3,0],[2,2,0,4,1],[0,0,2,0,4],[0,0,2,4,0]])*capacity\n",
    "\n",
    "F = 5"
   ]
  },
  {
   "cell_type": "code",
   "execution_count": 21,
   "metadata": {},
   "outputs": [],
   "source": [
    "constraints = []\n",
    "constraints += [Pod >=0, A>=0]\n",
    "for t in range(T):\n",
    "    constraints += [cp.sum(A[t]) == F]\n",
    "    constraints += [nij[t] >= 0]\n",
    "\n",
    "    for i in range(N):\n",
    "        constraints += [nij[t][i,i] == 0]\n",
    "        if t < T-1:\n",
    "            constraints += [A[t+1, i] == A[t, i]-cp.sum(nij[t][i,:])+cp.sum(nij[t][:,i])]\n",
    "        constraints += [A[t,i]>=cp.sum(nij[t][i,:])]\n",
    "        for j in range(N):\n",
    "            if i < j:\n",
    "                constraints += [nij[t][i,j]==-nij[t][j,i]]\n",
    "                constraints += [fij[n][m][t][i,j]==-fij[n][m][t][j,i] for n in range(N) for m in range(N)]\n",
    "            constraints += [Pod[i, j]==cp.sum([fij[i][j][t][i,:] for t in range(T)])]\n",
    "            constraints += [Pod[i, j]==-cp.sum([fij[i][j][t][:,j] for t in range(T)])]\n",
    "            for k in range(N):\n",
    "                if k != i and k!= j:\n",
    "                    constraints += [0==cp.sum([fij[i][j][t][k,:] for t in range(T)])]\n",
    "            constraints += [cp.sum([fij[n][m][t][i,j] for n in range(N) for m in range(N)])<= nij[t][i,j]*capacity]\n",
    "\n"
   ]
  },
  {
   "cell_type": "code",
   "execution_count": 22,
   "metadata": {},
   "outputs": [
    {
     "name": "stdout",
     "output_type": "stream",
     "text": [
      "===============================================================================\n",
      "                                     CVXPY                                     \n",
      "                                     v1.4.2                                    \n",
      "===============================================================================\n",
      "(CVXPY) Nov 14 09:45:57 AM: Your problem has 3300 variables, 2127 constraints, and 0 parameters.\n",
      "(CVXPY) Nov 14 09:45:57 AM: It is compliant with the following grammars: DCP, DQCP\n",
      "(CVXPY) Nov 14 09:45:57 AM: (If you need to solve this problem multiple times, but with different data, consider using parameters.)\n",
      "(CVXPY) Nov 14 09:45:57 AM: CVXPY will first compile your problem; then, it will invoke a numerical solver to obtain a solution.\n",
      "(CVXPY) Nov 14 09:45:57 AM: Your problem is compiled with the CPP canonicalization backend.\n",
      "-------------------------------------------------------------------------------\n",
      "                                  Compilation                                  \n",
      "-------------------------------------------------------------------------------\n",
      "(CVXPY) Nov 14 09:45:58 AM: Compiling problem (target solver=MOSEK).\n",
      "(CVXPY) Nov 14 09:45:58 AM: Reduction chain: Dcp2Cone -> CvxAttr2Constr -> ConeMatrixStuffing -> MOSEK\n",
      "(CVXPY) Nov 14 09:45:58 AM: Applying reduction Dcp2Cone\n",
      "(CVXPY) Nov 14 09:45:58 AM: Applying reduction CvxAttr2Constr\n",
      "(CVXPY) Nov 14 09:45:58 AM: Applying reduction ConeMatrixStuffing\n",
      "(CVXPY) Nov 14 09:45:58 AM: Applying reduction MOSEK\n",
      "(CVXPY) Nov 14 09:45:59 AM: Finished problem compilation (took 1.138e+00 seconds).\n",
      "-------------------------------------------------------------------------------\n",
      "                                Numerical solver                               \n",
      "-------------------------------------------------------------------------------\n",
      "(CVXPY) Nov 14 09:45:59 AM: Invoking solver MOSEK  to obtain a solution.\n",
      "\n",
      "\n",
      "(CVXPY) Nov 14 09:45:59 AM: Problem\n",
      "(CVXPY) Nov 14 09:45:59 AM:   Name                   :                 \n",
      "(CVXPY) Nov 14 09:45:59 AM:   Objective sense        : maximize        \n",
      "(CVXPY) Nov 14 09:45:59 AM:   Type                   : LO (linear optimization problem)\n",
      "(CVXPY) Nov 14 09:45:59 AM:   Constraints            : 3300            \n",
      "(CVXPY) Nov 14 09:45:59 AM:   Affine conic cons.     : 0               \n",
      "(CVXPY) Nov 14 09:45:59 AM:   Disjunctive cons.      : 0               \n",
      "(CVXPY) Nov 14 09:45:59 AM:   Cones                  : 0               \n",
      "(CVXPY) Nov 14 09:45:59 AM:   Scalar variables       : 4775            \n",
      "(CVXPY) Nov 14 09:45:59 AM:   Matrix variables       : 0               \n",
      "(CVXPY) Nov 14 09:45:59 AM:   Integer variables      : 0               \n",
      "(CVXPY) Nov 14 09:45:59 AM: \n",
      "(CVXPY) Nov 14 09:45:59 AM: Optimizer started.\n",
      "(CVXPY) Nov 14 09:45:59 AM: Presolve started.\n",
      "(CVXPY) Nov 14 09:45:59 AM: Linear dependency checker started.\n",
      "(CVXPY) Nov 14 09:45:59 AM: Linear dependency checker terminated.\n",
      "(CVXPY) Nov 14 09:45:59 AM: Eliminator started.\n",
      "(CVXPY) Nov 14 09:45:59 AM: Freed constraints in eliminator : 1044\n",
      "(CVXPY) Nov 14 09:45:59 AM: Eliminator terminated.\n",
      "(CVXPY) Nov 14 09:45:59 AM: Eliminator started.\n",
      "(CVXPY) Nov 14 09:45:59 AM: Freed constraints in eliminator : 0\n",
      "(CVXPY) Nov 14 09:45:59 AM: Eliminator terminated.\n",
      "(CVXPY) Nov 14 09:45:59 AM: Eliminator - tries                  : 2                 time                   : 0.00            \n",
      "(CVXPY) Nov 14 09:45:59 AM: Lin. dep.  - tries                  : 1                 time                   : 0.00            \n",
      "(CVXPY) Nov 14 09:45:59 AM: Lin. dep.  - number                 : 1480            \n",
      "(CVXPY) Nov 14 09:45:59 AM: Presolve terminated. Time: 0.00    \n",
      "(CVXPY) Nov 14 09:45:59 AM: Optimizer terminated. Time: 0.02    \n",
      "(CVXPY) Nov 14 09:45:59 AM: \n",
      "(CVXPY) Nov 14 09:45:59 AM: \n",
      "(CVXPY) Nov 14 09:45:59 AM: Interior-point solution summary\n",
      "(CVXPY) Nov 14 09:45:59 AM:   Problem status  : PRIMAL_AND_DUAL_FEASIBLE\n",
      "(CVXPY) Nov 14 09:45:59 AM:   Solution status : OPTIMAL\n",
      "(CVXPY) Nov 14 09:45:59 AM:   Primal.  obj: 0.0000000000e+00    nrm: 1e+00    Viol.  con: 0e+00    var: 0e+00  \n",
      "(CVXPY) Nov 14 09:45:59 AM:   Dual.    obj: 0.0000000000e+00    nrm: 5e+02    Viol.  con: 0e+00    var: 0e+00  \n",
      "-------------------------------------------------------------------------------\n",
      "                                    Summary                                    \n",
      "-------------------------------------------------------------------------------\n",
      "(CVXPY) Nov 14 09:45:59 AM: Problem status: optimal\n",
      "(CVXPY) Nov 14 09:45:59 AM: Optimal value: 3.200e+03\n",
      "(CVXPY) Nov 14 09:45:59 AM: Compilation took 1.138e+00 seconds\n",
      "(CVXPY) Nov 14 09:45:59 AM: Solver (including time spent in interface) took 2.602e-02 seconds\n"
     ]
    },
    {
     "data": {
      "text/plain": [
       "3200.0"
      ]
     },
     "execution_count": 22,
     "metadata": {},
     "output_type": "execute_result"
    }
   ],
   "source": [
    "obj = cp.Minimize(cp.sum(D-Pod))\n",
    "prob = cp.Problem(obj, constraints)\n",
    "\n",
    "prob.solve(verbose=True)"
   ]
  },
  {
   "cell_type": "code",
   "execution_count": 23,
   "metadata": {},
   "outputs": [
    {
     "name": "stdout",
     "output_type": "stream",
     "text": [
      "[[ 5. -0. -0. -0. -0.]\n",
      " [-0. -5. -0. -0. -0.]\n",
      " [-0. -0. -0. -0. -0.]\n",
      " [-0. -0. -0. -0. -0.]\n",
      " [-0. -0. -0. -0. -0.]]\n",
      "[[-5.  0.  0.  0.  0.]\n",
      " [-0.  5.  0.  0.  0.]\n",
      " [-0. -0. -0.  0.  0.]\n",
      " [-0. -0. -0. -0.  0.]\n",
      " [-0. -0. -0. -0. -0.]]\n",
      "[[-0.  0.  0.  0.  0.]\n",
      " [-0. -0.  0.  0.  0.]\n",
      " [-0. -0. -0.  0.  0.]\n",
      " [-0. -0. -0. -0.  0.]\n",
      " [-0. -0. -0. -0. -0.]]\n",
      "[[-0.  0.  0.  0.  0.]\n",
      " [-0. -0.  0.  0.  0.]\n",
      " [-0. -0. -0.  0.  0.]\n",
      " [-0. -0. -0. -0.  0.]\n",
      " [-0. -0. -0. -0. -0.]]\n",
      "[[-0. -0. -0. -0. -0.]\n",
      " [-0. -0. -0. -0. -0.]\n",
      " [-0. -0. -0. -0. -0.]\n",
      " [-0. -0. -0. -0. -0.]\n",
      " [-0. -0. -0. -0. -0.]]\n",
      "[[0. 0. 0. 0. 0.]\n",
      " [0. 0. 0. 0. 0.]\n",
      " [0. 0. 0. 0. 0.]\n",
      " [0. 0. 0. 0. 0.]\n",
      " [0. 0. 0. 0. 0.]]\n"
     ]
    }
   ],
   "source": [
    "ans = np.zeros((N,N))\n",
    "for t in range(T):\n",
    "    ans += nij[t].value\n",
    "    print(nij[t].value)\n",
    "print(ans)"
   ]
  },
  {
   "cell_type": "code",
   "execution_count": 24,
   "metadata": {},
   "outputs": [
    {
     "name": "stdout",
     "output_type": "stream",
     "text": [
      "[[5. 0. 0. 0. 0.]\n",
      " [0. 5. 0. 0. 0.]\n",
      " [5. 0. 0. 0. 0.]\n",
      " [5. 0. 0. 0. 0.]\n",
      " [5. 0. 0. 0. 0.]]\n"
     ]
    }
   ],
   "source": [
    "print(A.value)"
   ]
  },
  {
   "cell_type": "code",
   "execution_count": 25,
   "metadata": {},
   "outputs": [
    {
     "data": {
      "text/plain": [
       "array([[0., 0., 0., 0., 0.],\n",
       "       [0., 0., 0., 0., 0.],\n",
       "       [0., 0., 0., 0., 0.],\n",
       "       [0., 0., 0., 0., 0.],\n",
       "       [0., 0., 0., 0., 0.]])"
      ]
     },
     "execution_count": 25,
     "metadata": {},
     "output_type": "execute_result"
    }
   ],
   "source": [
    "Pod.value"
   ]
  },
  {
   "cell_type": "code",
   "execution_count": 13,
   "metadata": {},
   "outputs": [],
   "source": [
    "def getOptimal(A):\n",
    "\n",
    "    p = cp.Variable(2)\n",
    "    G = cp.Variable()\n",
    "\n",
    "    constraints = [p>=0, G>=0, cp.sum(p)==1, A.T@p>=G]\n",
    "    obj = cp.Maximize(G)\n",
    "    prob = cp.Problem(obj, constraints)\n",
    "    prob.solve()\n",
    "    return G.value, p.value"
   ]
  },
  {
   "cell_type": "code",
   "execution_count": 14,
   "metadata": {},
   "outputs": [
    {
     "data": {
      "text/plain": [
       "(array(1.5), array([0.5, 0.5]))"
      ]
     },
     "execution_count": 14,
     "metadata": {},
     "output_type": "execute_result"
    }
   ],
   "source": [
    "A= np.asarray([[3,1],[0,2]])\n",
    "getOptimal(A)"
   ]
  },
  {
   "cell_type": "code",
   "execution_count": 11,
   "metadata": {},
   "outputs": [
    {
     "data": {
      "text/plain": [
       "array([0.5, 0.5])"
      ]
     },
     "execution_count": 11,
     "metadata": {},
     "output_type": "execute_result"
    }
   ],
   "source": [
    "p.value"
   ]
  },
  {
   "cell_type": "code",
   "execution_count": 12,
   "metadata": {},
   "outputs": [
    {
     "data": {
      "text/plain": [
       "array([2., 1.])"
      ]
     },
     "execution_count": 12,
     "metadata": {},
     "output_type": "execute_result"
    }
   ],
   "source": [
    "A@p.value"
   ]
  },
  {
   "cell_type": "code",
   "execution_count": null,
   "metadata": {},
   "outputs": [],
   "source": [
    "def fillQ(T,Q, u1, u2):\n",
    "    U = np.zeros(T+1)\n",
    "    strats = [0]*T\n",
    "    for t in range(T,0,-1):\n",
    "        A = np.asarray([[u1(t,0,0), u1(t,0,1)],[u1(t,1,0),u1,(t,1,1)]])\n",
    "        val, strat = getOptimal(A)\n",
    "        U[t-1] = val+U[t]\n",
    "        strats[t-1] = strat\n",
    "\n",
    "    return U, strats\n",
    "\n",
    "        \n"
   ]
  }
 ],
 "metadata": {
  "kernelspec": {
   "display_name": ".default",
   "language": "python",
   "name": "python3"
  },
  "language_info": {
   "codemirror_mode": {
    "name": "ipython",
    "version": 3
   },
   "file_extension": ".py",
   "mimetype": "text/x-python",
   "name": "python",
   "nbconvert_exporter": "python",
   "pygments_lexer": "ipython3",
   "version": "3.9.7"
  }
 },
 "nbformat": 4,
 "nbformat_minor": 2
}
