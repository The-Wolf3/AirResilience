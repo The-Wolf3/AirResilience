{
 "cells": [
  {
   "cell_type": "code",
   "execution_count": null,
   "id": "a97ea24c",
   "metadata": {},
   "outputs": [],
   "source": [
    "import pandas as pd\n",
    "import numpy as np\n",
    "import polars as ps\n",
    "from datetime import datetime"
   ]
  },
  {
   "cell_type": "code",
   "execution_count": 3,
   "id": "95d900fc",
   "metadata": {},
   "outputs": [],
   "source": [
    "data17 = pd.read_csv('airdata/PAX_ITIN 7-17.csv')"
   ]
  },
  {
   "cell_type": "code",
   "execution_count": 4,
   "id": "a482ae17",
   "metadata": {},
   "outputs": [
    {
     "data": {
      "text/plain": [
       "Index(['PAX_PARTY_ID', 'OD_TICKET_AIRLN_ACCT_CD', 'OD_TICKET_NBR',\n",
       "       'OD_TICKET_ISSUE_DT', 'OD_SEQ_NBR', 'FlownODDepDt', 'PlanSegDepDt',\n",
       "       'PlanFltNbr', 'PlanSegDep', 'PlanSegArvl', 'PlanSegDepAirprt',\n",
       "       'PlanSegArvlAirprt', 'ConectQty', 'PlanODOrigin', 'PlanODDest',\n",
       "       'FlownFltNbr', 'FlownSegDep', 'FlownSegArvl', 'FlownSegDepDt',\n",
       "       'FlownSegDepAirprt', 'FlnSegArvlAirprt', 'PlanODDep', 'PlanODArvl',\n",
       "       'FlownODDep', 'FlownODArvl', 'FlownODArrivalDelay', 'SegTicketNbr',\n",
       "       'SegTicketIssueDt', 'SegEntlmntNbr', 'OD_TICKET_COUPON_SEQ_NBR',\n",
       "       'FLOWN_FLIGHT_DEP_DT', 'FLOWN_OPERAT_FLIGHT_NBR',\n",
       "       'FLOWN_SEG_DEP_AIRPRT_IATA_CD', 'PNR_LOCTR_ID', 'PNR_CREATE_DT',\n",
       "       'CNTRY_ISSUE_CD', 'REGION_ISSUE_CD', 'CNTRY_CODE', 'CNTRY_REGION'],\n",
       "      dtype='object')"
      ]
     },
     "execution_count": 4,
     "metadata": {},
     "output_type": "execute_result"
    }
   ],
   "source": [
    "data17.columns"
   ]
  },
  {
   "cell_type": "code",
   "execution_count": 17,
   "id": "057166c4",
   "metadata": {},
   "outputs": [],
   "source": [
    "data17['PlanSegDep'] = pd.to_datetime(data17['PlanSegDep'],format='%Y-%m-%d %H:%M:%S')\n",
    "data17['PlanSegArvl'] = pd.to_datetime(data17['PlanSegArvl'],format='%Y-%m-%d %H:%M:%S')"
   ]
  },
  {
   "cell_type": "code",
   "execution_count": 26,
   "id": "16cd875e",
   "metadata": {},
   "outputs": [
    {
     "data": {
      "text/plain": [
       "Timestamp('2019-07-17 18:18:00-0400', tz='America/New_York')"
      ]
     },
     "execution_count": 26,
     "metadata": {},
     "output_type": "execute_result"
    }
   ],
   "source": [
    "data17['PlanSegDep'][0].tz_localize('America/New_York')"
   ]
  },
  {
   "cell_type": "code",
   "execution_count": 21,
   "id": "4c6fdc13",
   "metadata": {},
   "outputs": [
    {
     "data": {
      "text/plain": [
       "False"
      ]
     },
     "execution_count": 21,
     "metadata": {},
     "output_type": "execute_result"
    }
   ],
   "source": [
    "len(data17['PlanSegDepAirprt'].unique())==len(data17['PlanSegArvlAirprt'].unique())"
   ]
  },
  {
   "cell_type": "code",
   "execution_count": 39,
   "id": "c55d50bb",
   "metadata": {},
   "outputs": [
    {
     "data": {
      "text/plain": [
       "ConectQty\n",
       "1    322028\n",
       "0    260768\n",
       "2     13034\n",
       "3       160\n",
       "Name: count, dtype: int64"
      ]
     },
     "execution_count": 39,
     "metadata": {},
     "output_type": "execute_result"
    }
   ],
   "source": [
    "data17['ConectQty'].value_counts()"
   ]
  },
  {
   "cell_type": "code",
   "execution_count": 31,
   "id": "bf50babc",
   "metadata": {},
   "outputs": [],
   "source": [
    "aspm = pd.read_csv('airdata/ASPM_2019.CSV')"
   ]
  },
  {
   "cell_type": "code",
   "execution_count": 35,
   "id": "89b001d3",
   "metadata": {},
   "outputs": [
    {
     "data": {
      "text/plain": [
       "Index(['DEP_YYYYMM', 'DEP_DAY', 'DEP_HOUR', 'DEP_QTR', 'ARR_YYYYMM', 'ARR_DAY',\n",
       "       'ARR_HOUR', 'ARR_QTR', 'OFF_YYYYMM', 'OFF_DAY', 'OFF_HOUR', 'OFF_QTR',\n",
       "       'ON_YYYYMM', 'ON_DAY', 'ON_HOUR', 'ON_QTR', 'FAACARRIER', 'FLTNO',\n",
       "       'TAILNO', 'ETMS_EQPT', 'DEP_LOCID', 'ARR_LOCID', 'OOOI', 'ETMS', 'OAG',\n",
       "       'FLT_TYPE', 'OAG_ACID', 'USER_CLASS', 'OAG_S_DEP', 'T_OAG_S_DE',\n",
       "       'FILED_PTIM', 'T_FIL_PTIM', 'OOOI_DEP', 'T_OOOI_DEP', 'NOM_TO',\n",
       "       'TAXI_OUT', 'OAG_OFF', 'T_OAG_OFF', 'PTIM_OFF', 'T_PTIM_OFF',\n",
       "       'PLAN_OFF', 'T_PLAN_OFF', 'EDCT_OFF', 'T_EDCT_OFF', 'WHEELS_OFF',\n",
       "       'T_WHLS_OFF', 'ACT_DZ', 'T_ACT_DZ', 'GAP_DZ', 'O_GATE_DEL',\n",
       "       'GATE_DELAY', 'EDCT_HOLD', 'DELAY_TO', 'OAG_ARPT_DEP', 'PTM_ARPT_DEP',\n",
       "       'FILED_ETE', 'AIRBORNE', 'ACT_DZ2AZ', 'DELAY_AIR', 'ACT_AZ', 'T_ACT_AZ',\n",
       "       'GAP_AZ', 'EDCT_ON', 'T_EDCT_ON', 'WHEELS_ON', 'T_WHLS_ON', 'EDCT_ARR',\n",
       "       'NOM_TI', 'TAXI_IN', 'OAG_S_G2G', 'OOOI_G2G', 'OAG_S_ARR', 'T_OAG_S_AR',\n",
       "       'ADJ_OAG_ARR', 'T_ADJ_OAG_ARR', 'OOOI_ARR', 'T_OOOI_ARR', 'DELAY_TI',\n",
       "       'DIF_G2G', 'O_ARR_DEL', 'DELAY_ARR'],\n",
       "      dtype='object')"
      ]
     },
     "execution_count": 35,
     "metadata": {},
     "output_type": "execute_result"
    }
   ],
   "source": [
    "aspm.columns"
   ]
  },
  {
   "cell_type": "code",
   "execution_count": 37,
   "id": "3823df99",
   "metadata": {},
   "outputs": [],
   "source": [
    "aspm = aspm[(aspm['FAACARRIER']=='AAL') & (aspm['DEP_YYYYMM']==201907)]"
   ]
  },
  {
   "cell_type": "code",
   "execution_count": null,
   "id": "9af842ef",
   "metadata": {},
   "outputs": [],
   "source": []
  },
  {
   "cell_type": "code",
   "execution_count": 23,
   "id": "cbf7b3a1",
   "metadata": {},
   "outputs": [
    {
     "data": {
      "text/plain": [
       "355"
      ]
     },
     "execution_count": 23,
     "metadata": {},
     "output_type": "execute_result"
    }
   ],
   "source": [
    "len(data17['PlanSegArvlAirprt'].unique())"
   ]
  },
  {
   "cell_type": "code",
   "execution_count": 7,
   "id": "813078c7",
   "metadata": {},
   "outputs": [
    {
     "data": {
      "text/plain": [
       "390554"
      ]
     },
     "execution_count": 7,
     "metadata": {},
     "output_type": "execute_result"
    }
   ],
   "source": [
    "len(data17[data17['OD_SEQ_NBR']==1])"
   ]
  },
  {
   "cell_type": "code",
   "execution_count": 33,
   "id": "e6dc6e04",
   "metadata": {},
   "outputs": [
    {
     "name": "stdout",
     "output_type": "stream",
     "text": [
      "[ 1  2  3  4  5  6  7  8  9 10 11 12 13 14 15 16 17 18 19 20 21 25 35 36]\n"
     ]
    }
   ],
   "source": [
    "data17['OD_TICKET_COUPON_SEQ_NBR'].unique()\n",
    "d = data17['OD_SEQ_NBR'].unique()\n",
    "d.sort()\n",
    "print(d)"
   ]
  },
  {
   "cell_type": "code",
   "execution_count": 8,
   "id": "1b0b6c96",
   "metadata": {},
   "outputs": [
    {
     "data": {
      "text/plain": [
       "417999"
      ]
     },
     "execution_count": 8,
     "metadata": {},
     "output_type": "execute_result"
    }
   ],
   "source": [
    "len(data17['PAX_PARTY_ID'].unique())"
   ]
  },
  {
   "cell_type": "code",
   "execution_count": null,
   "id": "298858f4",
   "metadata": {},
   "outputs": [],
   "source": []
  }
 ],
 "metadata": {
  "kernelspec": {
   "display_name": ".default",
   "language": "python",
   "name": "python3"
  },
  "language_info": {
   "codemirror_mode": {
    "name": "ipython",
    "version": 3
   },
   "file_extension": ".py",
   "mimetype": "text/x-python",
   "name": "python",
   "nbconvert_exporter": "python",
   "pygments_lexer": "ipython3",
   "version": "3.9.7"
  }
 },
 "nbformat": 4,
 "nbformat_minor": 5
}
